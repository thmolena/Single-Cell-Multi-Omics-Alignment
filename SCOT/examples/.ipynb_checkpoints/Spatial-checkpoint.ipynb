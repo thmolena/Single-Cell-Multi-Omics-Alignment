{
 "cells": [
  {
   "cell_type": "code",
   "execution_count": null,
   "id": "414e2517-0f5d-4c4e-b9a5-dc5dd7fc8887",
   "metadata": {},
   "outputs": [],
   "source": []
  },
  {
   "cell_type": "code",
   "execution_count": null,
   "id": "4d1b2f44-7334-40d8-95de-bd5d15404d48",
   "metadata": {},
   "outputs": [],
   "source": []
  },
  {
   "cell_type": "code",
   "execution_count": 1,
   "id": "ac4da2da-d2b1-4916-9d0f-8ca32fc4c574",
   "metadata": {},
   "outputs": [],
   "source": [
    "import scipy as sp\n",
    "import matplotlib.pyplot as plt\n",
    "\n",
    "from kneed import KneeLocator\n",
    "import math\n",
    "\n",
    "import time\n",
    "\n",
    "# For optimal transport operations:\n",
    "import ot\n",
    "\n",
    "# For pre-processing, normalization\n",
    "from sklearn.preprocessing import StandardScaler, normalize\n",
    "\n",
    "import numpy as np\n",
    "import random, math, os\n",
    "from sklearn.cluster import KMeans\n",
    "from sklearn.decomposition import PCA\n",
    "\n",
    "\n",
    "import warnings\n",
    "warnings.filterwarnings(\"ignore\")\n",
    "\n",
    "import torch\n",
    "from torch import nn, optim\n",
    "from torch.autograd import grad\n",
    "import torch.nn.functional as F\n",
    "\n",
    "\n",
    "\n",
    "\n",
    "# For computing graph distances:\n",
    "from sklearn.neighbors import NearestNeighbors,DistanceMetric, KNeighborsClassifier, kneighbors_graph"
   ]
  },
  {
   "cell_type": "code",
   "execution_count": null,
   "id": "3bf2c140-aa7c-4d43-813c-7d41965756dc",
   "metadata": {},
   "outputs": [],
   "source": []
  },
  {
   "cell_type": "markdown",
   "id": "0a480d2b-b00e-424a-90ce-4ff9de78014c",
   "metadata": {},
   "source": [
    "##### "
   ]
  },
  {
   "cell_type": "code",
   "execution_count": null,
   "id": "d63137e0-7a8f-47da-8b7b-b91c1cd7d027",
   "metadata": {},
   "outputs": [],
   "source": []
  },
  {
   "cell_type": "code",
   "execution_count": null,
   "id": "686b92a3-4a84-4847-9094-ebc6e77879ed",
   "metadata": {},
   "outputs": [],
   "source": []
  },
  {
   "cell_type": "code",
   "execution_count": 2,
   "id": "0003aace-dcef-4f62-8791-fa03c01ee1ad",
   "metadata": {},
   "outputs": [],
   "source": [
    "def fused_gromov_wasserstein(M, C1, C2, p, q, loss_fun='square_loss', symmetric=None, alpha=0.5,\n",
    "                             armijo=False, G0=None, log=False, max_iter=1e4, tol_rel=1e-9, tol_abs=1e-9, **kwargs):\n",
    "    r\"\"\"\n",
    "    Computes the FGW transport between two graphs (see :ref:`[24] <references-fused-gromov-wasserstein>`)\n",
    "\n",
    "    .. math::\n",
    "        \\gamma = \\mathop{\\arg \\min}_\\gamma \\quad (1 - \\alpha) \\langle \\gamma, \\mathbf{M} \\rangle_F +\n",
    "        \\alpha \\sum_{i,j,k,l} L(\\mathbf{C_1}_{i,k}, \\mathbf{C_2}_{j,l}) \\mathbf{T}_{i,j} \\mathbf{T}_{k,l}\n",
    "\n",
    "        s.t. \\ \\mathbf{\\gamma} \\mathbf{1} &= \\mathbf{p}\n",
    "\n",
    "             \\mathbf{\\gamma}^T \\mathbf{1} &= \\mathbf{q}\n",
    "\n",
    "             \\mathbf{\\gamma} &\\geq 0\n",
    "\n",
    "    where :\n",
    "\n",
    "    - :math:`\\mathbf{M}` is the (`ns`, `nt`) metric cost matrix\n",
    "    - :math:`\\mathbf{p}` and :math:`\\mathbf{q}` are source and target weights (sum to 1)\n",
    "    - `L` is a loss function to account for the misfit between the similarity matrices\n",
    "\n",
    "    .. note:: This function is backend-compatible and will work on arrays\n",
    "        from all compatible backends. But the algorithm uses the C++ CPU backend\n",
    "        which can lead to copy overhead on GPU arrays.\n",
    "    .. note:: All computations in the conjugate gradient solver are done with\n",
    "        numpy to limit memory overhead.\n",
    "\n",
    "    The algorithm used for solving the problem is conditional gradient as discussed in :ref:`[24] <references-fused-gromov-wasserstein>`\n",
    "\n",
    "    Parameters\n",
    "    ----------\n",
    "    M : array-like, shape (ns, nt)\n",
    "        Metric cost matrix between features across domains\n",
    "    C1 : array-like, shape (ns, ns)\n",
    "        Metric cost matrix representative of the structure in the source space\n",
    "    C2 : array-like, shape (nt, nt)\n",
    "        Metric cost matrix representative of the structure in the target space\n",
    "    p : array-like, shape (ns,)\n",
    "        Distribution in the source space\n",
    "    q : array-like, shape (nt,)\n",
    "        Distribution in the target space\n",
    "    loss_fun : str, optional\n",
    "        Loss function used for the solver\n",
    "    symmetric : bool, optional\n",
    "        Either C1 and C2 are to be assumed symmetric or not.\n",
    "        If let to its default None value, a symmetry test will be conducted.\n",
    "        Else if set to True (resp. False), C1 and C2 will be assumed symmetric (resp. asymmetric).\n",
    "    alpha : float, optional\n",
    "        Trade-off parameter (0 < alpha < 1)\n",
    "    armijo : bool, optional\n",
    "        If True the step of the line-search is found via an armijo research. Else closed form is used.\n",
    "        If there are convergence issues use False.\n",
    "    G0: array-like, shape (ns,nt), optional\n",
    "        If None the initial transport plan of the solver is pq^T.\n",
    "        Otherwise G0 must satisfy marginal constraints and will be used as initial transport of the solver.\n",
    "    log : bool, optional\n",
    "        record log if True\n",
    "    max_iter : int, optional\n",
    "        Max number of iterations\n",
    "    tol_rel : float, optional\n",
    "        Stop threshold on relative error (>0)\n",
    "    tol_abs : float, optional\n",
    "        Stop threshold on absolute error (>0)\n",
    "    **kwargs : dict\n",
    "        parameters can be directly passed to the ot.optim.cg solver\n",
    "\n",
    "    Returns\n",
    "    -------\n",
    "    gamma : array-like, shape (`ns`, `nt`)\n",
    "        Optimal transportation matrix for the given parameters.\n",
    "    log : dict\n",
    "        Log dictionary return only if log==True in parameters.\n",
    "\n",
    "\n",
    "    .. _references-fused-gromov-wasserstein:\n",
    "    References\n",
    "    ----------\n",
    "    .. [24] Vayer Titouan, Chapel Laetitia, Flamary Rémi, Tavenard Romain\n",
    "        and Courty Nicolas \"Optimal Transport for structured data with\n",
    "        application on graphs\", International Conference on Machine Learning\n",
    "        (ICML). 2019.\n",
    "\n",
    "    .. [47] Chowdhury, S., & Mémoli, F. (2019). The gromov–wasserstein\n",
    "        distance between networks and stable network invariants.\n",
    "        Information and Inference: A Journal of the IMA, 8(4), 757-787.\n",
    "    \"\"\"\n",
    "    p, q = list_to_array(p, q)\n",
    "    p0, q0, C10, C20, M0, alpha0 = p, q, C1, C2, M, alpha\n",
    "    if G0 is None:\n",
    "        nx = get_backend(p0, q0, C10, C20, M0)\n",
    "    else:\n",
    "        G0_ = G0\n",
    "        nx = get_backend(p0, q0, C10, C20, M0, G0_)\n",
    "\n",
    "    p = nx.to_numpy(p)\n",
    "    q = nx.to_numpy(q)\n",
    "    C1 = nx.to_numpy(C10)\n",
    "    C2 = nx.to_numpy(C20)\n",
    "    M = nx.to_numpy(M0)\n",
    "    alpha = nx.to_numpy(alpha0)\n",
    "\n",
    "    if symmetric is None:\n",
    "        symmetric = np.allclose(C1, C1.T, atol=1e-10) and np.allclose(C2, C2.T, atol=1e-10)\n",
    "\n",
    "    if G0 is None:\n",
    "        G0 = p[:, None] * q[None, :]\n",
    "    else:\n",
    "        G0 = nx.to_numpy(G0_)\n",
    "        # Check marginals of G0\n",
    "        np.testing.assert_allclose(G0.sum(axis=1), p, atol=1e-08)\n",
    "        np.testing.assert_allclose(G0.sum(axis=0), q, atol=1e-08)\n",
    "    # cg for GW is implemented using numpy on CPU\n",
    "    np_ = NumpyBackend()\n",
    "\n",
    "    constC, hC1, hC2 = init_matrix(C1, C2, p, q, loss_fun, np_)\n",
    "\n",
    "    def f(G):\n",
    "        return gwloss(constC, hC1, hC2, G, np_)\n",
    "\n",
    "    if symmetric:\n",
    "        def df(G):\n",
    "            return gwggrad(constC, hC1, hC2, G, np_)\n",
    "    else:\n",
    "        constCt, hC1t, hC2t = init_matrix(C1.T, C2.T, p, q, loss_fun, np_)\n",
    "\n",
    "        def df(G):\n",
    "            return 0.5 * (gwggrad(constC, hC1, hC2, G, np_) + gwggrad(constCt, hC1t, hC2t, G, np_))\n",
    "\n",
    "    if loss_fun == 'kl_loss':\n",
    "        armijo = True  # there is no closed form line-search with KL\n",
    "\n",
    "    if armijo:\n",
    "        def line_search(cost, G, deltaG, Mi, cost_G, **kwargs):\n",
    "            return line_search_armijo(cost, G, deltaG, Mi, cost_G, nx=np_, **kwargs)\n",
    "    else:\n",
    "        def line_search(cost, G, deltaG, Mi, cost_G, **kwargs):\n",
    "            return solve_gromov_linesearch(G, deltaG, cost_G, C1, C2, M=(1 - alpha) * M, reg=alpha, nx=np_, **kwargs)\n",
    "    if log:\n",
    "        res, log = cg(p, q, (1 - alpha) * M, alpha, f, df, G0, line_search, log=True, numItermax=max_iter, stopThr=tol_rel, stopThr2=tol_abs, **kwargs)\n",
    "        log['fgw_dist'] = nx.from_numpy(log['loss'][-1], type_as=C10)\n",
    "        log['u'] = nx.from_numpy(log['u'], type_as=C10)\n",
    "        log['v'] = nx.from_numpy(log['v'], type_as=C10)\n",
    "        return nx.from_numpy(res, type_as=C10), log\n",
    "    else:\n",
    "        return nx.from_numpy(cg(p, q, (1 - alpha) * M, alpha, f, df, G0, line_search, log=False, numItermax=max_iter, stopThr=tol_rel, stopThr2=tol_abs, **kwargs), type_as=C10)"
   ]
  },
  {
   "cell_type": "code",
   "execution_count": null,
   "id": "7332d8fe-8633-4b16-9501-3ae94ad6ab33",
   "metadata": {},
   "outputs": [],
   "source": []
  },
  {
   "cell_type": "code",
   "execution_count": null,
   "id": "2128b92b-cf5b-43d0-97b7-feb398b18dd4",
   "metadata": {},
   "outputs": [],
   "source": []
  },
  {
   "cell_type": "code",
   "execution_count": 3,
   "id": "7e0c1acd-e2f9-4d1a-836d-b5ac31257750",
   "metadata": {},
   "outputs": [],
   "source": [
    "def fused_gromov_wasserstein2(M, C1, C2, p, q, loss_fun='square_loss', symmetric=None, alpha=0.5,\n",
    "                              armijo=False, G0=None, log=False, max_iter=1e4, tol_rel=1e-9, tol_abs=1e-9, **kwargs):\n",
    "    r\"\"\"\n",
    "    Computes the FGW distance between two graphs see (see :ref:`[24] <references-fused-gromov-wasserstein2>`)\n",
    "\n",
    "    .. math::\n",
    "        \\min_\\gamma \\quad (1 - \\alpha) \\langle \\gamma, \\mathbf{M} \\rangle_F + \\alpha \\sum_{i,j,k,l}\n",
    "        L(\\mathbf{C_1}_{i,k}, \\mathbf{C_2}_{j,l}) \\mathbf{T}_{i,j} \\mathbf{T}_{k,l}\n",
    "\n",
    "        s.t. \\ \\mathbf{\\gamma} \\mathbf{1} &= \\mathbf{p}\n",
    "\n",
    "             \\mathbf{\\gamma}^T \\mathbf{1} &= \\mathbf{q}\n",
    "\n",
    "             \\mathbf{\\gamma} &\\geq 0\n",
    "\n",
    "    where :\n",
    "\n",
    "    - :math:`\\mathbf{M}` is the (`ns`, `nt`) metric cost matrix\n",
    "    - :math:`\\mathbf{p}` and :math:`\\mathbf{q}` are source and target weights (sum to 1)\n",
    "    - `L` is a loss function to account for the misfit between the similarity matrices\n",
    "\n",
    "    The algorithm used for solving the problem is conditional gradient as\n",
    "    discussed in :ref:`[24] <references-fused-gromov-wasserstein2>`\n",
    "\n",
    "    .. note:: This function is backend-compatible and will work on arrays\n",
    "        from all compatible backends. But the algorithm uses the C++ CPU backend\n",
    "        which can lead to copy overhead on GPU arrays.\n",
    "    .. note:: All computations in the conjugate gradient solver are done with\n",
    "        numpy to limit memory overhead.\n",
    "\n",
    "    Note that when using backends, this loss function is differentiable wrt the\n",
    "    matrices (C1, C2, M) and weights (p, q) for quadratic loss using the gradients from [38]_.\n",
    "\n",
    "    Parameters\n",
    "    ----------\n",
    "    M : array-like, shape (ns, nt)\n",
    "        Metric cost matrix between features across domains\n",
    "    C1 : array-like, shape (ns, ns)\n",
    "        Metric cost matrix representative of the structure in the source space.\n",
    "    C2 : array-like, shape (nt, nt)\n",
    "        Metric cost matrix representative of the structure in the target space.\n",
    "    p :  array-like, shape (ns,)\n",
    "        Distribution in the source space.\n",
    "    q :  array-like, shape (nt,)\n",
    "        Distribution in the target space.\n",
    "    loss_fun : str, optional\n",
    "        Loss function used for the solver.\n",
    "    symmetric : bool, optional\n",
    "        Either C1 and C2 are to be assumed symmetric or not.\n",
    "        If let to its default None value, a symmetry test will be conducted.\n",
    "        Else if set to True (resp. False), C1 and C2 will be assumed symmetric (resp. asymmetric).\n",
    "    alpha : float, optional\n",
    "        Trade-off parameter (0 < alpha < 1)\n",
    "    armijo : bool, optional\n",
    "        If True the step of the line-search is found via an armijo research.\n",
    "        Else closed form is used. If there are convergence issues use False.\n",
    "    G0: array-like, shape (ns,nt), optional\n",
    "        If None the initial transport plan of the solver is pq^T.\n",
    "        Otherwise G0 must satisfy marginal constraints and will be used as initial transport of the solver.\n",
    "    log : bool, optional\n",
    "        Record log if True.\n",
    "    max_iter : int, optional\n",
    "        Max number of iterations\n",
    "    tol_rel : float, optional\n",
    "        Stop threshold on relative error (>0)\n",
    "    tol_abs : float, optional\n",
    "        Stop threshold on absolute error (>0)\n",
    "    **kwargs : dict\n",
    "        Parameters can be directly passed to the ot.optim.cg solver.\n",
    "\n",
    "    Returns\n",
    "    -------\n",
    "    fgw-distance : float\n",
    "        Fused Gromov-Wasserstein distance for the given parameters.\n",
    "    log : dict\n",
    "        Log dictionary return only if log==True in parameters.\n",
    "\n",
    "\n",
    "    .. _references-fused-gromov-wasserstein2:\n",
    "    References\n",
    "    ----------\n",
    "    .. [24] Vayer Titouan, Chapel Laetitia, Flamary Rémi, Tavenard Romain\n",
    "        and Courty Nicolas\n",
    "        \"Optimal Transport for structured data with application on graphs\"\n",
    "        International Conference on Machine Learning (ICML). 2019.\n",
    "\n",
    "    .. [38] C. Vincent-Cuaz, T. Vayer, R. Flamary, M. Corneli, N. Courty, Online\n",
    "        Graph Dictionary Learning, International Conference on Machine Learning\n",
    "        (ICML), 2021.\n",
    "\n",
    "    .. [47] Chowdhury, S., & Mémoli, F. (2019). The gromov–wasserstein\n",
    "        distance between networks and stable network invariants.\n",
    "        Information and Inference: A Journal of the IMA, 8(4), 757-787.\n",
    "    \"\"\"\n",
    "    nx = get_backend(C1, C2, M)\n",
    "\n",
    "    T, log_fgw = fused_gromov_wasserstein(\n",
    "        M, C1, C2, p, q, loss_fun, symmetric, alpha, armijo, G0, log=True,\n",
    "        max_iter=max_iter, tol_rel=tol_rel, tol_abs=tol_abs, **kwargs)\n",
    "\n",
    "    fgw_dist = log_fgw['fgw_dist']\n",
    "    log_fgw['T'] = T\n",
    "\n",
    "    if loss_fun == 'square_loss':\n",
    "        gC1 = 2 * C1 * nx.outer(p, p) - 2 * nx.dot(T, nx.dot(C2, T.T))\n",
    "        gC2 = 2 * C2 * nx.outer(q, q) - 2 * nx.dot(T.T, nx.dot(C1, T))\n",
    "        if isinstance(alpha, int) or isinstance(alpha, float):\n",
    "            fgw_dist = nx.set_gradients(fgw_dist, (p, q, C1, C2, M),\n",
    "                                        (log_fgw['u'] - nx.mean(log_fgw['u']),\n",
    "                                         log_fgw['v'] - nx.mean(log_fgw['v']),\n",
    "                                         alpha * gC1, alpha * gC2, (1 - alpha) * T))\n",
    "        else:\n",
    "            lin_term = nx.sum(T * M)\n",
    "            gw_term = (fgw_dist - (1 - alpha) * lin_term) / alpha\n",
    "            fgw_dist = nx.set_gradients(fgw_dist, (p, q, C1, C2, M, alpha),\n",
    "                                        (log_fgw['u'] - nx.mean(log_fgw['u']),\n",
    "                                         log_fgw['v'] - nx.mean(log_fgw['v']),\n",
    "                                         alpha * gC1, alpha * gC2, (1 - alpha) * T,\n",
    "                                         gw_term - lin_term))\n",
    "\n",
    "    if log:\n",
    "        return fgw_dist, log_fgw\n",
    "    else:\n",
    "        return fgw_dist"
   ]
  },
  {
   "cell_type": "code",
   "execution_count": null,
   "id": "8ff086d1-2749-49c2-937f-4bf5b50b6fd8",
   "metadata": {},
   "outputs": [],
   "source": []
  },
  {
   "cell_type": "code",
   "execution_count": null,
   "id": "bb2003a2-3f1a-496a-a230-00678741506e",
   "metadata": {},
   "outputs": [],
   "source": []
  },
  {
   "cell_type": "code",
   "execution_count": null,
   "id": "20b4aee2-d222-4ab4-9280-aa467f4767ed",
   "metadata": {},
   "outputs": [],
   "source": []
  },
  {
   "cell_type": "code",
   "execution_count": 4,
   "id": "0183313a-6cac-49fe-b792-f64b6d531bd1",
   "metadata": {},
   "outputs": [],
   "source": [
    "from __future__ import print_function   # if you are using Python 2\n",
    "import dionysus as d"
   ]
  },
  {
   "cell_type": "code",
   "execution_count": 5,
   "id": "3411b8c8-45f9-40cb-bfd8-c41c6e502d26",
   "metadata": {},
   "outputs": [
    {
     "name": "stdout",
     "output_type": "stream",
     "text": [
      "Dimension: 2\n"
     ]
    }
   ],
   "source": [
    "s = d.Simplex([0,1,2])\n",
    "print(\"Dimension:\", s.dimension())"
   ]
  },
  {
   "cell_type": "code",
   "execution_count": 6,
   "id": "9267816a-4d3a-481a-af62-bb10556d7f09",
   "metadata": {},
   "outputs": [
    {
     "name": "stdout",
     "output_type": "stream",
     "text": [
      "0\n",
      "1\n",
      "2\n"
     ]
    }
   ],
   "source": [
    "for v in s:\n",
    "    print(v)"
   ]
  },
  {
   "cell_type": "code",
   "execution_count": 7,
   "id": "56ed3a8f-141e-44cc-a100-b7cac610b4d2",
   "metadata": {},
   "outputs": [
    {
     "name": "stdout",
     "output_type": "stream",
     "text": [
      "<1,2> 0\n",
      "<0,2> 0\n",
      "<0,1> 0\n"
     ]
    }
   ],
   "source": [
    "for sb in s.boundary():\n",
    "    print(sb)"
   ]
  },
  {
   "cell_type": "code",
   "execution_count": 8,
   "id": "40adf143-328d-46de-851e-fd970e1517be",
   "metadata": {},
   "outputs": [
    {
     "name": "stdout",
     "output_type": "stream",
     "text": [
      "<0,1,2> 5\n"
     ]
    }
   ],
   "source": [
    "s.data = 5\n",
    "print(s)"
   ]
  },
  {
   "cell_type": "code",
   "execution_count": 9,
   "id": "1fb3b570-1722-4a97-b657-18450b7f7faf",
   "metadata": {},
   "outputs": [
    {
     "name": "stdout",
     "output_type": "stream",
     "text": [
      "1022\n"
     ]
    }
   ],
   "source": [
    "simplex9 = d.Simplex([0,1,2,3,4,5,6,7,8,9])\n",
    "sphere8  = d.closure([simplex9], 8)\n",
    "print(len(sphere8))"
   ]
  },
  {
   "cell_type": "code",
   "execution_count": 10,
   "id": "ecabd4a6-5686-41d2-b1dc-00559d7e288b",
   "metadata": {},
   "outputs": [
    {
     "name": "stdout",
     "output_type": "stream",
     "text": [
      "<0> 1\n",
      "<1> 2\n",
      "<0,1> 3\n",
      "<2> 4\n",
      "<1,2> 5\n",
      "<0,2> 6\n"
     ]
    }
   ],
   "source": [
    "simplices = [([2], 4), ([1,2], 5), ([0,2], 6),\n",
    "             ([0], 1),   ([1], 2), ([0,1], 3)]\n",
    "f = d.Filtration()\n",
    "for vertices, time in simplices:\n",
    "    f.append(d.Simplex(vertices, time))\n",
    "f.sort()\n",
    "for s in f:\n",
    "    print(s)"
   ]
  },
  {
   "cell_type": "code",
   "execution_count": 11,
   "id": "baffa3de-4d23-47c5-bca9-4e7a7db39ee9",
   "metadata": {},
   "outputs": [
    {
     "name": "stdout",
     "output_type": "stream",
     "text": [
      "4\n"
     ]
    }
   ],
   "source": [
    "print(f.index(d.Simplex([1,2])))"
   ]
  },
  {
   "cell_type": "code",
   "execution_count": 12,
   "id": "32fe5bb3-81e9-4a66-a25e-0e3ed76f2a5b",
   "metadata": {},
   "outputs": [
    {
     "name": "stdout",
     "output_type": "stream",
     "text": [
      "0 \n",
      "1 \n",
      "2 1*0 + 1*1\n",
      "3 \n",
      "4 1*1 + 1*3\n",
      "5 \n"
     ]
    }
   ],
   "source": [
    "m = d.homology_persistence(f)\n",
    "for i,c in enumerate(m):\n",
    "    print(i, c)"
   ]
  },
  {
   "cell_type": "code",
   "execution_count": 13,
   "id": "a30e7dfb-fac8-4887-a2bf-dcae0e934e47",
   "metadata": {},
   "outputs": [
    {
     "name": "stdout",
     "output_type": "stream",
     "text": [
      "0 0\n",
      "0 1 2\n",
      "0 3 4\n",
      "1 5\n"
     ]
    }
   ],
   "source": [
    "for i in range(len(m)):\n",
    "    if m.pair(i) < i: continue      # skip negative simplices\n",
    "    dim = f[i].dimension()\n",
    "    if m.pair(i) != m.unpaired:\n",
    "        print(dim, i, m.pair(i))\n",
    "    else:\n",
    "        print(dim, i)"
   ]
  },
  {
   "cell_type": "code",
   "execution_count": 14,
   "id": "d26a7abc-c98e-415f-872b-f2f31fb4cfd5",
   "metadata": {},
   "outputs": [
    {
     "name": "stdout",
     "output_type": "stream",
     "text": [
      "[Diagram with 3 points, Diagram with 1 points]\n",
      "0 1.0 inf\n",
      "0 2.0 3.0\n",
      "0 4.0 5.0\n",
      "1 6.0 inf\n"
     ]
    }
   ],
   "source": [
    "dgms = d.init_diagrams(m, f)\n",
    "print(dgms)\n",
    "\n",
    "for i, dgm in enumerate(dgms):\n",
    "    for pt in dgm:\n",
    "        print(i, pt.birth, pt.death)"
   ]
  },
  {
   "cell_type": "code",
   "execution_count": 15,
   "id": "f65f9aed-6d6e-403c-9e13-e0465ef48fce",
   "metadata": {},
   "outputs": [],
   "source": [
    "m = d.homology_persistence(f, method = 'column')"
   ]
  },
  {
   "cell_type": "code",
   "execution_count": 16,
   "id": "47fe4646-44f0-488f-bd76-0c5cb1f1b69d",
   "metadata": {},
   "outputs": [
    {
     "name": "stdout",
     "output_type": "stream",
     "text": [
      "Dimension: 0\n",
      "(0,inf)\n",
      "Dimension: 1\n",
      "Dimension: 2\n",
      "Dimension: 3\n",
      "Dimension: 4\n",
      "Dimension: 5\n",
      "Dimension: 6\n",
      "Dimension: 7\n",
      "Dimension: 8\n",
      "(0,inf)\n"
     ]
    }
   ],
   "source": [
    "f = d.Filtration(sphere8)\n",
    "f.sort()\n",
    "m = d.homology_persistence(f, prime=2)\n",
    "dgms = d.init_diagrams(m, f)\n",
    "for i, dgm in enumerate(dgms):\n",
    "    print(\"Dimension:\", i)\n",
    "    for p in dgm:\n",
    "        print(p)"
   ]
  },
  {
   "cell_type": "code",
   "execution_count": null,
   "id": "2caa4571-1a83-4b6d-9860-ba2d517deb25",
   "metadata": {},
   "outputs": [],
   "source": []
  },
  {
   "cell_type": "code",
   "execution_count": null,
   "id": "f5357944-2829-49a6-9413-23c0c0534fc4",
   "metadata": {},
   "outputs": [],
   "source": []
  },
  {
   "cell_type": "code",
   "execution_count": null,
   "id": "89307e90-762b-4b09-a0fc-ba6b78005eb7",
   "metadata": {},
   "outputs": [],
   "source": []
  }
 ],
 "metadata": {
  "kernelspec": {
   "display_name": "Python 3 (ipykernel)",
   "language": "python",
   "name": "python3"
  },
  "language_info": {
   "codemirror_mode": {
    "name": "ipython",
    "version": 3
   },
   "file_extension": ".py",
   "mimetype": "text/x-python",
   "name": "python",
   "nbconvert_exporter": "python",
   "pygments_lexer": "ipython3",
   "version": "3.10.9"
  }
 },
 "nbformat": 4,
 "nbformat_minor": 5
}
