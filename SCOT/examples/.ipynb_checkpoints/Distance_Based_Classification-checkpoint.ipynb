{
 "cells": [
  {
   "cell_type": "markdown",
   "id": "63ad4388",
   "metadata": {},
   "source": [
    "# DISTANCE BASED CLASSIFICATION ON IRIS DATASET"
   ]
  },
  {
   "cell_type": "markdown",
   "id": "706b73cb",
   "metadata": {},
   "source": [
    "## IMPORTING MODULES"
   ]
  },
  {
   "cell_type": "code",
   "execution_count": 1,
   "id": "35990c4f",
   "metadata": {},
   "outputs": [],
   "source": [
    "import pandas as pd     #To read the dataset\n",
    "import numpy as np      #To perform operations on array\n",
    "import os               #To handle some files if necessayr\n",
    "import matplotlib.pyplot as plt #To visualize data in the form of graphs\n",
    "import sys\n",
    "import statistics as st\n",
    "MAX = sys.maxsize"
   ]
  },
  {
   "cell_type": "markdown",
   "id": "015c872f",
   "metadata": {},
   "source": [
    "### MEAN CALCULATION"
   ]
  },
  {
   "cell_type": "code",
   "execution_count": 2,
   "id": "271f14f3",
   "metadata": {},
   "outputs": [],
   "source": [
    "def mean_0(X):\n",
    "    # Calculates mean of each column\n",
    "    m,n = X.shape\n",
    "    sums = 0\n",
    "    for row in X:\n",
    "        sums += row\n",
    "    return sums/m"
   ]
  },
  {
   "cell_type": "markdown",
   "id": "e7313711",
   "metadata": {},
   "source": [
    "## DISTANCE METRICS"
   ]
  },
  {
   "cell_type": "markdown",
   "id": "d2c2fb70",
   "metadata": {},
   "source": [
    "### Euclidean Distance"
   ]
  },
  {
   "cell_type": "markdown",
   "id": "a862e8a0",
   "metadata": {},
   "source": [
    "\n",
    "$ d(x,y) = \\sqrt{(x_1-y_1)^2+(x_2-y_2)^2+...+(x_n-y_n)^2} $"
   ]
  },
  {
   "cell_type": "code",
   "execution_count": 3,
   "id": "4dae184c",
   "metadata": {},
   "outputs": [],
   "source": [
    "def euclidean_distance(p1,p2):\n",
    "    distance = pow(sum([(a - b) ** 2 for a, b in zip(p1, p2)]),0.5)\n",
    "    return distance"
   ]
  },
  {
   "cell_type": "markdown",
   "id": "9a6a412d",
   "metadata": {},
   "source": [
    "### City Block/Manhattan Distance"
   ]
  },
  {
   "cell_type": "markdown",
   "id": "ddb9d6e8",
   "metadata": {},
   "source": [
    "$ d(x,y)= |x_1 - x_2| + |y_1 - y_2| + ... + |x_n - y_n| $"
   ]
  },
  {
   "cell_type": "code",
   "execution_count": 4,
   "id": "2504393b",
   "metadata": {},
   "outputs": [],
   "source": [
    "def manhattan_distance(p1,p2):\n",
    "    distance = 0\n",
    "    for i in range(len(p1)):\n",
    "        distance += abs(p1[i] - p2[i])\n",
    "    return distance"
   ]
  },
  {
   "cell_type": "markdown",
   "id": "3848491f",
   "metadata": {},
   "source": [
    "### Chess Board Distance"
   ]
  },
  {
   "cell_type": "markdown",
   "id": "6276de49",
   "metadata": {},
   "source": [
    "$d(x,y) = max(|x_1 - x_2|,|y_1 - y_2|)$"
   ]
  },
  {
   "cell_type": "code",
   "execution_count": 5,
   "id": "2068d92e",
   "metadata": {},
   "outputs": [],
   "source": [
    "def chessboard_distance(p1,p2):\n",
    "    distance = abs(p1[0] - p2[0])\n",
    "    for i in range(1,len(p1)):\n",
    "        distance = max(distance,abs(p1[i] - p2[i]))\n",
    "    return distance"
   ]
  },
  {
   "cell_type": "markdown",
   "id": "d1add912",
   "metadata": {},
   "source": [
    "### Mahalanobis Distance"
   ]
  },
  {
   "cell_type": "markdown",
   "id": "8a9a825a",
   "metadata": {},
   "source": [
    "$ d(x,y)=(x-y)^T.C.(x-y) $"
   ]
  },
  {
   "cell_type": "code",
   "execution_count": 6,
   "id": "d8a924e6",
   "metadata": {},
   "outputs": [],
   "source": [
    "def calcCov(x, y):\n",
    "    mean_x, mean_y = x.mean(), y.mean()\n",
    "    n = len(x)\n",
    "    return sum((x - mean_x) * (y - mean_y)) / n\n",
    "def cov(data):\n",
    "    rows, cols = data.shape\n",
    "    cov_mat = np.zeros((cols, cols))\n",
    " \n",
    "    for i in range(cols):\n",
    " \n",
    "        for j in range(cols):\n",
    "            # store the value in the matrix\n",
    "            cov_mat[i][j] = calcCov(data[:, i], data[:, j])\n",
    " \n",
    "    return cov_mat"
   ]
  },
  {
   "cell_type": "code",
   "execution_count": 45,
   "id": "b079b08a",
   "metadata": {},
   "outputs": [],
   "source": [
    "def mahalanobis_distance(p1,p2,X): #p1 is model, p2 is the test point\n",
    "    # X is inverse cov matrix\n",
    "    distance = np.dot(np.dot(np.subtract(p2,p1).T,np.array(X)),np.subtract(p2,p1))\n",
    "    return distance"
   ]
  },
  {
   "cell_type": "markdown",
   "id": "c256d512",
   "metadata": {},
   "source": [
    "### Correlation Distance"
   ]
  },
  {
   "cell_type": "markdown",
   "id": "3eb15008",
   "metadata": {},
   "source": [
    "$ d(x,y) = 1 - (x - Mean[x]).(y - Mean[y])/(Norm(x - Mean[x])Norm(y - Mean[]y)) $ "
   ]
  },
  {
   "cell_type": "code",
   "execution_count": 8,
   "id": "c32a5834",
   "metadata": {},
   "outputs": [],
   "source": [
    "def correlation_distance(p1,p2):\n",
    "    norm_p1 = 0\n",
    "    norm_p2 = 0\n",
    "    for i in range(len(p1)):\n",
    "        norm_p1 += (p1[i] - st.mean(p1))**2\n",
    "        norm_p2 += (p2[i] - st.mean(p2))**2\n",
    "    norm_p1 = norm_p1**0.5\n",
    "    norm_p2 = norm_p2**0.5\n",
    "    s = 0\n",
    "    for i in range(len(p1)):\n",
    "        s += (p1[i] - st.mean(p1))*(p2[i] - st.mean(p2))\n",
    "    distance = 1 - s/(norm_p1*norm_p2)\n",
    "    return distance"
   ]
  },
  {
   "cell_type": "markdown",
   "id": "2f650b80",
   "metadata": {},
   "source": [
    "### Cosine Distance"
   ]
  },
  {
   "cell_type": "markdown",
   "id": "fad2224d",
   "metadata": {},
   "source": [
    "$ \\text{cosine distance} = 1 - \\text{cosine similarity}(A,B)$\n",
    "\n",
    "$  \\text{cosine similarity} = \\cos(\\theta) = {\\mathbf{A} \\cdot \\mathbf{B} \\over \\|\\mathbf{A}\\| \\|\\mathbf{B}\\|} =\\large \\frac{ x_1 * x_2 + y_1 * y_2  }{ \\sqrt{x_1^2+y_1^2 }  \\sqrt{x_2^2 + y_2^2}}$"
   ]
  },
  {
   "cell_type": "code",
   "execution_count": 9,
   "id": "00f5eed1",
   "metadata": {},
   "outputs": [],
   "source": [
    "def cosine_distance(p1,p2):\n",
    "    norm_p1 = 0\n",
    "    norm_p2 = 0\n",
    "    for i in range(len(p1)):\n",
    "        norm_p1 += p1[i]**2\n",
    "        norm_p2 += p2[i]**2\n",
    "    norm_p1 = norm_p1**0.5\n",
    "    norm_p2 = norm_p2**0.5\n",
    "    s = 0\n",
    "    for i in range(len(p1)):\n",
    "        s += p1[i]*p2[i]\n",
    "    distance = 1 - s/(norm_p1*norm_p2)\n",
    "    return distance"
   ]
  },
  {
   "cell_type": "markdown",
   "id": "82b436e2",
   "metadata": {},
   "source": [
    "### Bray-Curtis Distance"
   ]
  },
  {
   "cell_type": "markdown",
   "id": "483eab25",
   "metadata": {},
   "source": [
    "$ \\large BC_d=\\sum_{i=0}^{n} \\frac{|x_i-x_j|}{(x_i-x_j)} $"
   ]
  },
  {
   "cell_type": "code",
   "execution_count": 10,
   "id": "6a20b716",
   "metadata": {},
   "outputs": [],
   "source": [
    "def bray_curtis_distance(p1,p2):\n",
    "    s1 = 0\n",
    "    s2 = 0\n",
    "    for i in range(len(p1)):\n",
    "        s1 += abs(p1[i] - p2[i])\n",
    "        s2 += abs(p1[i] + p2[i])\n",
    "    distance = s1/s2\n",
    "    return distance"
   ]
  },
  {
   "cell_type": "markdown",
   "id": "d297b944",
   "metadata": {},
   "source": [
    "### Canberra Distance"
   ]
  },
  {
   "cell_type": "markdown",
   "id": "0de76999",
   "metadata": {},
   "source": [
    "$ \\large d(p,q) = \\sum_{i=0}^{n} \\frac{|p_i-q_i|}{|p_i|+|q_i|} $"
   ]
  },
  {
   "cell_type": "code",
   "execution_count": 11,
   "id": "c702d799",
   "metadata": {},
   "outputs": [],
   "source": [
    "def canberra_distance(p1,p2):\n",
    "    distance = 0\n",
    "    for i in range(len(p1)):\n",
    "        s1 = abs(p1[i] - p2[i])\n",
    "        s2 = abs(p1[i] + p2[i])\n",
    "        distance += s1/s2\n",
    "    return distance"
   ]
  },
  {
   "cell_type": "markdown",
   "id": "847a3b15",
   "metadata": {},
   "source": [
    "### Minkowski Distance"
   ]
  },
  {
   "cell_type": "markdown",
   "id": "96c19bba",
   "metadata": {},
   "source": [
    "$ \\large d(x,y) = (|x_1 - y_1|^p + |x_2 - y_2|^p)^{1/p}$"
   ]
  },
  {
   "cell_type": "code",
   "execution_count": 12,
   "id": "27d36422",
   "metadata": {},
   "outputs": [],
   "source": [
    "def minkowski_distance(p1,p2,p):\n",
    "    s = 0\n",
    "    for i in range(len(p1)):\n",
    "        s += abs(p1[i] - p2[i])**p\n",
    "    distance = s**(1/p)\n",
    "    return distance"
   ]
  },
  {
   "cell_type": "markdown",
   "id": "2f0e9d4d",
   "metadata": {},
   "source": [
    "### MISCLASSIFICATION ERROR RATE"
   ]
  },
  {
   "cell_type": "code",
   "execution_count": 13,
   "id": "1fdf66e6",
   "metadata": {},
   "outputs": [],
   "source": [
    "def MER_Error(X,Y):\n",
    "    correct_count = 0\n",
    "    for i in range(len(X)):\n",
    "        if(X[i] == Y[i]):\n",
    "            correct_count = correct_count + 1\n",
    "    MER_val = 1 - (correct_count/len(X))\n",
    "    return MER_val"
   ]
  },
  {
   "cell_type": "markdown",
   "id": "12d4e556",
   "metadata": {},
   "source": [
    "## LOADING DATASET"
   ]
  },
  {
   "cell_type": "code",
   "execution_count": 14,
   "id": "f0422c32",
   "metadata": {
    "scrolled": true
   },
   "outputs": [],
   "source": [
    "df = pd.read_csv(\"iris.data\")"
   ]
  },
  {
   "cell_type": "code",
   "execution_count": 15,
   "id": "a25cb594",
   "metadata": {},
   "outputs": [
    {
     "name": "stdout",
     "output_type": "stream",
     "text": [
      "Iris-setosa        50\n",
      "Iris-versicolor    50\n",
      "Iris-virginica     50\n",
      "Name: Species, dtype: int64\n"
     ]
    }
   ],
   "source": [
    "print(df['Species'].value_counts())"
   ]
  },
  {
   "cell_type": "markdown",
   "id": "06060ce8",
   "metadata": {},
   "source": [
    "## PREPROCESSING"
   ]
  },
  {
   "cell_type": "markdown",
   "id": "3671cb2e",
   "metadata": {},
   "source": [
    "Data preprocessing is a process of preparing the raw data and making it suitable for a machine learning model."
   ]
  },
  {
   "cell_type": "code",
   "execution_count": 16,
   "id": "7eed6f26",
   "metadata": {},
   "outputs": [
    {
     "name": "stdout",
     "output_type": "stream",
     "text": [
      "SepalLengthCm    0\n",
      "SepalWidthCm     0\n",
      "PetalLengthCm    0\n",
      "PetalWidthCm     0\n",
      "Species          0\n",
      "dtype: int64\n"
     ]
    }
   ],
   "source": [
    "#Check for null value --If NULL value, we can replace it either with mean, median or mode.\n",
    "print(df.isnull().sum())"
   ]
  },
  {
   "cell_type": "markdown",
   "id": "ed8f52a5",
   "metadata": {},
   "source": [
    "## EXPLORATORY DATA ANALYSIS"
   ]
  },
  {
   "cell_type": "markdown",
   "id": "fe26b774",
   "metadata": {},
   "source": [
    "PLOTTING THE DATA USING SCATTER-PLOT"
   ]
  },
  {
   "cell_type": "code",
   "execution_count": 17,
   "id": "42fae6e0",
   "metadata": {},
   "outputs": [],
   "source": [
    "colors = ['red','green','blue']\n",
    "species = ['Iris-virginica', 'Iris-versicolor','Iris-setosa']"
   ]
  },
  {
   "cell_type": "markdown",
   "id": "e9d449c8",
   "metadata": {},
   "source": [
    "#### Plotting scatterplot for features sepal-length and sepal-width"
   ]
  },
  {
   "cell_type": "code",
   "execution_count": 18,
   "id": "b8e657a8",
   "metadata": {},
   "outputs": [
    {
     "data": {
      "text/plain": [
       "<matplotlib.legend.Legend at 0x23b02d36130>"
      ]
     },
     "execution_count": 18,
     "metadata": {},
     "output_type": "execute_result"
    },
    {
     "data": {
      "image/png": "[encoded data removed]",
      "text/plain": [
       "<Figure size 432x288 with 1 Axes>"
      ]
     },
     "metadata": {
      "needs_background": "light"
     },
     "output_type": "display_data"
    }
   ],
   "source": [
    "for i in range (3):\n",
    "    x = df[df['Species']==species[i]]\n",
    "    plt.scatter(x['SepalLengthCm'], x['SepalWidthCm'], c=colors[i], label=species[i])\n",
    "plt.title('Sepal Length vs Sepal Width')\n",
    "plt.xlabel(\"Sepal Length  (Cm)\")\n",
    "plt.ylabel(\"Sepal Width  (Cm)\")\n",
    "plt.legend()"
   ]
  },
  {
   "cell_type": "markdown",
   "id": "33dd3635",
   "metadata": {},
   "source": [
    "#### Plotting scatterplot for features petal-length and petal-width"
   ]
  },
  {
   "cell_type": "code",
   "execution_count": 19,
   "id": "c87a6b99",
   "metadata": {},
   "outputs": [
    {
     "data": {
      "text/plain": [
       "<matplotlib.legend.Legend at 0x23b04e4b190>"
      ]
     },
     "execution_count": 19,
     "metadata": {},
     "output_type": "execute_result"
    },
    {
     "data": {
      "image/png": "[encoded data removed]",
      "text/plain": [
       "<Figure size 432x288 with 1 Axes>"
      ]
     },
     "metadata": {
      "needs_background": "light"
     },
     "output_type": "display_data"
    }
   ],
   "source": [
    "#Plot scatterplot for petal-length and petal-width\n",
    "for i in range (3):\n",
    "    x = df[df['Species']==species[i]]\n",
    "    plt.scatter(x['PetalLengthCm'], x['PetalWidthCm'], c=colors[i], label=species[i])\n",
    "plt.title('Petal Length vs Petal Width')\n",
    "plt.xlabel(\"Petal Length  (Cm)\")\n",
    "plt.ylabel(\"Petal Width  (Cm)\")\n",
    "plt.legend()"
   ]
  },
  {
   "cell_type": "markdown",
   "id": "aecf1a61",
   "metadata": {},
   "source": [
    "#### Plotting scatterplot for features sepal-length and petal-length"
   ]
  },
  {
   "cell_type": "code",
   "execution_count": 20,
   "id": "cd3b30cc",
   "metadata": {},
   "outputs": [
    {
     "data": {
      "text/plain": [
       "<matplotlib.legend.Legend at 0x23b04ea3730>"
      ]
     },
     "execution_count": 20,
     "metadata": {},
     "output_type": "execute_result"
    },
    {
     "data": {
      "image/png": "[encoded data removed]",
      "text/plain": [
       "<Figure size 432x288 with 1 Axes>"
      ]
     },
     "metadata": {
      "needs_background": "light"
     },
     "output_type": "display_data"
    }
   ],
   "source": [
    "#Plot scatterplot for sepal-length and petal-length\n",
    "for i in range (3):\n",
    "    x = df[df['Species']==species[i]]\n",
    "    plt.scatter(x['SepalLengthCm'], x['PetalLengthCm'], c=colors[i], label=species[i])\n",
    "plt.title('Sepal Length vs Petal Length')\n",
    "plt.xlabel(\"Sepal Length  (Cm)\")\n",
    "plt.ylabel(\"Petal Length  (Cm)\")\n",
    "plt.legend()"
   ]
  },
  {
   "cell_type": "markdown",
   "id": "addaf494",
   "metadata": {},
   "source": [
    "#### Plotting scatterplot for features sepal-width and petal-width"
   ]
  },
  {
   "cell_type": "code",
   "execution_count": 21,
   "id": "a756c40f",
   "metadata": {},
   "outputs": [
    {
     "data": {
      "text/plain": [
       "<matplotlib.legend.Legend at 0x23b04ef8400>"
      ]
     },
     "execution_count": 21,
     "metadata": {},
     "output_type": "execute_result"
    },
    {
     "data": {
      "image/png": "[encoded data removed]",
      "text/plain": [
       "<Figure size 432x288 with 1 Axes>"
      ]
     },
     "metadata": {
      "needs_background": "light"
     },
     "output_type": "display_data"
    }
   ],
   "source": [
    "#Plot scatterplot for sepal-width and petal-width\n",
    "for i in range (3):\n",
    "    x = df[df['Species']==species[i]]\n",
    "    plt.scatter(x['SepalWidthCm'], x['PetalWidthCm'], c=colors[i], label=species[i])\n",
    "plt.title('Sepal Width vs Petal Width')\n",
    "plt.xlabel(\"Sepal Width (Cm)\")\n",
    "plt.ylabel(\"Petal Width (Cm)\")\n",
    "plt.legend()"
   ]
  },
  {
   "cell_type": "markdown",
   "id": "e32daf93",
   "metadata": {},
   "source": [
    "## LABEL ENCODER"
   ]
  },
  {
   "cell_type": "markdown",
   "id": "33bc65e0",
   "metadata": {},
   "source": [
    "Dataset might contain labels in one or more columns. These labels may be numbers or string. Label Encoding refers to converting the labels into a numeric form."
   ]
  },
  {
   "cell_type": "code",
   "execution_count": 22,
   "id": "f620376b",
   "metadata": {},
   "outputs": [],
   "source": [
    "from sklearn.preprocessing import LabelEncoder\n",
    "le = LabelEncoder()"
   ]
  },
  {
   "cell_type": "code",
   "execution_count": 23,
   "id": "9c32e98f",
   "metadata": {},
   "outputs": [],
   "source": [
    "df['Species'] = le.fit_transform(df['Species'])\n",
    "# Iris-setosa 0\n",
    "# Iris-versicolor 1\n",
    "# Iris-virginica 2"
   ]
  },
  {
   "cell_type": "markdown",
   "id": "bf1e6b01",
   "metadata": {},
   "source": [
    "## SPLIT INTO TRAIN AND TEST DATA"
   ]
  },
  {
   "cell_type": "code",
   "execution_count": 24,
   "id": "2b726bc2",
   "metadata": {},
   "outputs": [],
   "source": [
    "# X -> Features SepalLengthCm, SepalWidthCm, PetalLengthCm, PetalWidthCm \n",
    "# Y -> Labels 0,1,2\n",
    "X = df.drop(columns=['Species']) #Drops the Species column and stores it in variable X\n",
    "Y = df['Species'] #Stores the column Species in Y"
   ]
  },
  {
   "cell_type": "markdown",
   "id": "bd227b5f",
   "metadata": {},
   "source": [
    "training - 60% testing - 40%"
   ]
  },
  {
   "cell_type": "code",
   "execution_count": 25,
   "id": "40ca5893",
   "metadata": {},
   "outputs": [],
   "source": [
    "# TRAINING DATA\n",
    "C0 = X[0:30]\n",
    "C1 = X[50:80]\n",
    "C2 = X[100:130]\n",
    "\n",
    "X_train = np.concatenate([C0,C1,C2],axis=0)    #features\n",
    "Y_train = np.concatenate([Y[0:30], Y[50:80], Y[100:130]],axis=0)  #labels"
   ]
  },
  {
   "cell_type": "code",
   "execution_count": 26,
   "id": "a12e07ba",
   "metadata": {},
   "outputs": [],
   "source": [
    "# TESTING DATA\n",
    "X_test = np.concatenate([X[30:50],X[80:100],X[130:150]],axis=0)    #features\n",
    "Y_test = np.concatenate([Y[30:50], Y[80:100], Y[130:150]],axis=0)  #labels"
   ]
  },
  {
   "cell_type": "markdown",
   "id": "4130f70f",
   "metadata": {},
   "source": [
    "## TRAINING PHASE"
   ]
  },
  {
   "cell_type": "markdown",
   "id": "31f16c87",
   "metadata": {},
   "source": [
    "Training phase involves finding the centroid of each class"
   ]
  },
  {
   "cell_type": "code",
   "execution_count": 27,
   "id": "9b5fb914",
   "metadata": {},
   "outputs": [],
   "source": [
    "C0 = np.array(X[0:30])\n",
    "C1 = np.array(X[50:80])\n",
    "C2 = np.array(X[100:130])"
   ]
  },
  {
   "cell_type": "code",
   "execution_count": 28,
   "id": "03fa5a4e",
   "metadata": {
    "scrolled": true
   },
   "outputs": [
    {
     "name": "stdout",
     "output_type": "stream",
     "text": [
      "[[5.02666667 3.45       1.47333333 0.24666667]\n",
      " [6.07       2.79       4.33333333 1.35333333]\n",
      " [6.58333333 2.93333333 5.60333333 2.00666667]]\n"
     ]
    }
   ],
   "source": [
    "# Training Phase\n",
    "l1 = mean_0(C0)\n",
    "l2 = mean_0(C1)\n",
    "l3 = mean_0(C2)\n",
    "model = np.array([l1,l2,l3])\n",
    "print(model)"
   ]
  },
  {
   "cell_type": "markdown",
   "id": "072425ac",
   "metadata": {},
   "source": [
    "## PLOTTING CENTROID"
   ]
  },
  {
   "cell_type": "markdown",
   "id": "3bf52ddd",
   "metadata": {},
   "source": [
    "Only train-data is plotted along with centroid; as the centroid is calculated based on the train-data.\n",
    "The centroid might change if we change the train-data."
   ]
  },
  {
   "cell_type": "markdown",
   "id": "09c53f29",
   "metadata": {},
   "source": [
    "#### Centroid Plot in Sepal-Length vs Sepal-Width Graph"
   ]
  },
  {
   "cell_type": "code",
   "execution_count": 29,
   "id": "a8c45c99",
   "metadata": {},
   "outputs": [
    {
     "data": {
      "image/png": "[encoded data removed]",
      "text/plain": [
       "<Figure size 432x288 with 1 Axes>"
      ]
     },
     "metadata": {
      "needs_background": "light"
     },
     "output_type": "display_data"
    }
   ],
   "source": [
    "setosa_plot = plt.scatter(X_train[0:30,0], X_train[0:30,1],color='red')     # 0-30 in X_train belongs to setosa\n",
    "versicolor_plot = plt.scatter(X_train[30:60,0], X_train[30:60,1],color='green')   # 30-60 in X_train belongsto Versicolor\n",
    "virginica_plot = plt.scatter(X_train[60:90,0], X_train[60:90,1],color='blue')    # 60-90 in X_train belongs to Virginica\n",
    "centroid_plot = plt.scatter(model[:,0],model[:,1],color='black',marker=',',s=50)\n",
    "plt.legend((setosa_plot,versicolor_plot,virginica_plot,centroid_plot),('Setosa', 'Versicolor','Virginica','Centroid'),numpoints=1, loc='lower right', ncol=3, fontsize=8)\n",
    "plt.title(\"Centroid Plot in Sepal-Length vs Sepal-Width Graph\")\n",
    "plt.xlabel('Sepal Length (cm)')  \n",
    "plt.ylabel('Sepal Width (cm)')  \n",
    "plt.show()"
   ]
  },
  {
   "cell_type": "markdown",
   "id": "d72b74b1",
   "metadata": {},
   "source": [
    "#### Centroid Plot in Petal-Length vs Petal-Width Graph"
   ]
  },
  {
   "cell_type": "code",
   "execution_count": 30,
   "id": "9658fe9d",
   "metadata": {},
   "outputs": [
    {
     "data": {
      "image/png": "[encoded data removed]",
      "text/plain": [
       "<Figure size 432x288 with 1 Axes>"
      ]
     },
     "metadata": {
      "needs_background": "light"
     },
     "output_type": "display_data"
    }
   ],
   "source": [
    "setosa_plot = plt.scatter(X_train[0:30,2], X_train[0:30,3],color='red')     # 0-30 in X_train belongs to setosa\n",
    "versicolor_plot = plt.scatter(X_train[30:60,2], X_train[30:60,3],color='green')   # 30-60 in X_train belongsto Versicolor\n",
    "virginica_plot = plt.scatter(X_train[60:90,2], X_train[60:90,3],color='blue')    # 60-90 in X_train belongs to Virginica\n",
    "centroid_plot = plt.scatter(model[:,2],model[:,3],color='black',marker=',',s=50)\n",
    "plt.legend((setosa_plot,versicolor_plot,virginica_plot,centroid_plot),('Setosa', 'Versicolor','Virginica','Centroid'),numpoints=1, loc='lower right', ncol=3, fontsize=8)\n",
    "plt.title(\"Centroid Plot in Petal-Length vs Petal-Width Graph\")\n",
    "plt.xlabel('Petal Length (cm)')  \n",
    "plt.ylabel('Petal Width (cm)')  \n",
    "plt.show()"
   ]
  },
  {
   "cell_type": "markdown",
   "id": "77cdd50c",
   "metadata": {},
   "source": [
    "#### Centroid Plot in Sepal-Length vs Petal-Length Graph"
   ]
  },
  {
   "cell_type": "code",
   "execution_count": 31,
   "id": "94f3c5c1",
   "metadata": {},
   "outputs": [
    {
     "data": {
      "image/png": "[encoded data removed]",
      "text/plain": [
       "<Figure size 432x288 with 1 Axes>"
      ]
     },
     "metadata": {
      "needs_background": "light"
     },
     "output_type": "display_data"
    }
   ],
   "source": [
    "setosa_plot = plt.scatter(X_train[0:30,0], X_train[0:30,2],color='red')     # 0-30 in X_train belongs to setosa\n",
    "versicolor_plot = plt.scatter(X_train[30:60,0], X_train[30:60,2],color='green')   # 30-60 in X_train belongsto Versicolor\n",
    "virginica_plot = plt.scatter(X_train[60:90,0], X_train[60:90,2],color='blue')    # 60-90 in X_train belongs to Virginica\n",
    "centroid_plot = plt.scatter(model[:,0],model[:,2],color='black',marker=',',s=50)\n",
    "plt.legend((setosa_plot,versicolor_plot,virginica_plot,centroid_plot),('Setosa', 'Versicolor','Virginica','Centroid'),numpoints=1, loc='best', ncol=3, fontsize=8)\n",
    "plt.title(\"Centroid Plot in Sepal-Length vs Petal-Length Graph\")\n",
    "plt.xlabel('Sepal Length (cm)')  \n",
    "plt.ylabel('Petal Length (cm)')  \n",
    "plt.show()"
   ]
  },
  {
   "cell_type": "markdown",
   "id": "bce85cac",
   "metadata": {},
   "source": [
    "#### Centroid Plot in Sepal-Width vs Petal-Width Graph"
   ]
  },
  {
   "cell_type": "code",
   "execution_count": 32,
   "id": "2d5dd3fc",
   "metadata": {
    "scrolled": true
   },
   "outputs": [
    {
     "data": {
      "image/png": "[encoded data removed]",
      "text/plain": [
       "<Figure size 432x288 with 1 Axes>"
      ]
     },
     "metadata": {
      "needs_background": "light"
     },
     "output_type": "display_data"
    }
   ],
   "source": [
    "setosa_plot = plt.scatter(X_train[0:30,1], X_train[0:30,3],color='red')     # 0-30 in X_train belongs to setosa\n",
    "versicolor_plot = plt.scatter(X_train[30:60,1], X_train[30:60,3],color='green')   # 30-60 in X_train belongsto Versicolor\n",
    "virginica_plot = plt.scatter(X_train[60:90,1], X_train[60:90,3],color='blue')    # 60-90 in X_train belongs to Virginica\n",
    "centroid_plot = plt.scatter(model[:,1],model[:,3],color='black',marker=',',s=50)\n",
    "plt.legend((setosa_plot,versicolor_plot,virginica_plot,centroid_plot),('Setosa', 'Versicolor','Virginica','Centroid'),numpoints=1, loc='best', ncol=3, fontsize=8)\n",
    "plt.title(\"Centroid Plot in Sepal-Width vs Petal-Width Graph\")\n",
    "plt.xlabel('Sepal Width (cm)')  \n",
    "plt.ylabel('Petal Width (cm)')  \n",
    "plt.show()"
   ]
  },
  {
   "cell_type": "markdown",
   "id": "7f320a7b",
   "metadata": {},
   "source": [
    "## TESTING PHASE"
   ]
  },
  {
   "cell_type": "markdown",
   "id": "2074b078",
   "metadata": {},
   "source": [
    "### Euclidean Distance - Analysis"
   ]
  },
  {
   "cell_type": "code",
   "execution_count": 33,
   "id": "96b296e0",
   "metadata": {},
   "outputs": [],
   "source": [
    "# minimum distance\n",
    "min_dist = MAX\n",
    "\n",
    "# predicted labels\n",
    "predicted = [0]*len(X_test)\n",
    "#Actual label -> Y_test\n",
    "\n",
    "for i in range (len(X_test)):\n",
    "    for j in range(0,3):\n",
    "        distance = euclidean_distance([model[j,2],model[j,3]],[X_test[i,2],X_test[i,3]])\n",
    "        \n",
    "        if(distance < min_dist):\n",
    "            min_dist = distance\n",
    "            lbl = j;\n",
    "    \n",
    "    predicted[i] = lbl;\n",
    "    \n",
    "    #reset min_dist\n",
    "    min_dist = MAX  "
   ]
  },
  {
   "cell_type": "code",
   "execution_count": 34,
   "id": "7306798b",
   "metadata": {},
   "outputs": [
    {
     "name": "stdout",
     "output_type": "stream",
     "text": [
      "Comparision of True Class Labels and Predicted Class Labels\n",
      "\n",
      "    True Labels  Predicted Labels\n",
      "0             0                 0\n",
      "1             0                 0\n",
      "2             0                 0\n",
      "3             0                 0\n",
      "4             0                 0\n",
      "5             0                 0\n",
      "6             0                 0\n",
      "7             0                 0\n",
      "8             0                 0\n",
      "9             0                 0\n",
      "10            0                 0\n",
      "11            0                 0\n",
      "12            0                 0\n",
      "13            0                 0\n",
      "14            0                 0\n",
      "15            0                 0\n",
      "16            0                 0\n",
      "17            0                 0\n",
      "18            0                 0\n",
      "19            0                 0\n",
      "20            1                 1\n",
      "21            1                 1\n",
      "22            1                 1\n",
      "23            1                 2\n",
      "24            1                 1\n",
      "25            1                 1\n",
      "26            1                 1\n",
      "27            1                 1\n",
      "28            1                 1\n",
      "29            1                 1\n",
      "30            1                 1\n",
      "31            1                 1\n",
      "32            1                 1\n",
      "33            1                 1\n",
      "34            1                 1\n",
      "35            1                 1\n",
      "36            1                 1\n",
      "37            1                 1\n",
      "38            1                 1\n",
      "39            1                 1\n",
      "40            2                 2\n",
      "41            2                 2\n",
      "42            2                 2\n",
      "43            2                 2\n",
      "44            2                 2\n",
      "45            2                 2\n",
      "46            2                 2\n",
      "47            2                 2\n",
      "48            2                 1\n",
      "49            2                 2\n",
      "50            2                 2\n",
      "51            2                 2\n",
      "52            2                 2\n",
      "53            2                 2\n",
      "54            2                 2\n",
      "55            2                 2\n",
      "56            2                 2\n",
      "57            2                 2\n",
      "58            2                 2\n",
      "59            2                 2\n"
     ]
    }
   ],
   "source": [
    "# Displaying Predicted Labels against True Labels\n",
    "dict = {'True Labels' : Y_test,\n",
    "        'Predicted Labels' : predicted}\n",
    "df2 = pd.DataFrame(dict)\n",
    "\n",
    "print('Comparision of True Class Labels and Predicted Class Labels\\n')\n",
    "print(df2)\n"
   ]
  },
  {
   "cell_type": "code",
   "execution_count": 35,
   "id": "8f7e45c5",
   "metadata": {},
   "outputs": [
    {
     "name": "stdout",
     "output_type": "stream",
     "text": [
      "MER of Euclidean Distance Model 0.033333333333333326\n"
     ]
    }
   ],
   "source": [
    "#Misclassification Error Rate of Euclidean Distance Model\n",
    "MER = MER_Error(Y_test,predicted)\n",
    "print(\"MER of Euclidean Distance Model\",MER)"
   ]
  },
  {
   "cell_type": "code",
   "execution_count": 36,
   "id": "e01fed2b",
   "metadata": {},
   "outputs": [
    {
     "name": "stdout",
     "output_type": "stream",
     "text": [
      "Accuracy of Euclidean Distance Model(in %) = 96.67\n"
     ]
    }
   ],
   "source": [
    "#Accuracy of Euclidean Distance Model\n",
    "Accuracy = (1-MER)*100\n",
    "print(\"Accuracy of Euclidean Distance Model(in %) = {:.2f}\".format(Accuracy,2))"
   ]
  },
  {
   "cell_type": "markdown",
   "id": "a5d8b307",
   "metadata": {},
   "source": [
    "### Analysis using a Sample Test Point"
   ]
  },
  {
   "cell_type": "code",
   "execution_count": 37,
   "id": "b01c5505",
   "metadata": {
    "scrolled": true
   },
   "outputs": [
    {
     "name": "stdout",
     "output_type": "stream",
     "text": [
      "Sample Test Point Id 9\n",
      "True Class of Sample Test Point ->  0\n",
      "Predicted Class of Sample Test Point ->  0\n"
     ]
    }
   ],
   "source": [
    "# Take a sample test point and plot the distance from each centroids. \n",
    "# Indicate the true class and predicted class. (For Euclidean distance)\n",
    "import random\n",
    "# Select a random test plot\n",
    "pt = random.randint(0,len(Y_test))\n",
    "print(\"Sample Test Point Id\",pt)\n",
    "print(\"True Class of Sample Test Point -> \",Y_test[pt])\n",
    "print(\"Predicted Class of Sample Test Point -> \",predicted[pt])"
   ]
  },
  {
   "cell_type": "code",
   "execution_count": 38,
   "id": "f863d997",
   "metadata": {},
   "outputs": [
    {
     "data": {
      "image/png": "[encoded data removed]",
      "text/plain": [
       "<Figure size 576x576 with 1 Axes>"
      ]
     },
     "metadata": {
      "needs_background": "light"
     },
     "output_type": "display_data"
    }
   ],
   "source": [
    "# Plotting distance of sample test point from each centroids.\n",
    "# Petal Length vs Petal Width\n",
    "\n",
    "c0_pt = [model[0,2],model[0,3]]\n",
    "c1_pt = [model[1,2],model[1,3]]\n",
    "c2_pt = [model[2,2],model[2,3]]\n",
    "test_pt = [X_test[pt,2],X_test[pt,3]]\n",
    "\n",
    "plt.figure(figsize=(8,8))\n",
    "#Plot Distance\n",
    "plt.plot([c0_pt[0],test_pt[0]],[c0_pt[1],test_pt[1]],color='dimgray')\n",
    "plt.plot([c1_pt[0],test_pt[0]],[c1_pt[1],test_pt[1]],color='dimgray')\n",
    "plt.plot([c2_pt[0],test_pt[0]],[c2_pt[1],test_pt[1]],color='dimgray')\n",
    "#Plot Points\n",
    "plt.scatter(c0_pt[0],c0_pt[1],color='cyan',label='Centroid 0-Setosa',marker=',',s=50)\n",
    "plt.scatter(c1_pt[0],c1_pt[1],color='green',label='Centroid 1-Versicolor',marker=',',s=50)\n",
    "plt.scatter(c2_pt[0],c2_pt[1],color='blue',label='Centroid 2-Virginica',marker=',',s=50)\n",
    "plt.scatter(test_pt[0],test_pt[1],color='magenta',label='Sample Test Point',s=100)\n",
    "\n",
    "plt.legend()\n",
    "plt.title(\"Distance of Sample Point from each Centroids\")\n",
    "plt.xlabel('Petal Length (cm)')  \n",
    "plt.ylabel('Petal Width (cm)')  \n",
    "plt.show()"
   ]
  },
  {
   "cell_type": "markdown",
   "id": "a7ce1bbc",
   "metadata": {},
   "source": [
    "### Comparison of Different Distance Metrics"
   ]
  },
  {
   "cell_type": "code",
   "execution_count": 39,
   "id": "a2e38575",
   "metadata": {},
   "outputs": [],
   "source": [
    "def select_distance(p1,p2,distance_type,X_train=None):\n",
    "# returns the calculated distance based on the type of distance provided\n",
    "    if(distance_type == \"euclidean\"):\n",
    "        return euclidean_distance(p1,p2)\n",
    "    elif(distance_type == \"manhattan\" or distance_type == \"cityblock\"):\n",
    "        return manhattan_distance(p1,p2)\n",
    "    elif(distance_type == \"chessboard\" or distance_type == \"chebyshev\"):\n",
    "        return chessboard_distance(p1,p2)\n",
    "    elif(distance_type == \"minkowski\"):\n",
    "        return minkowski_distance(p1,p2,3)\n",
    "    elif(distance_type == \"mahalanobis\"):\n",
    "        X = cov(X_train)\n",
    "        X = np.linalg.inv(X)\n",
    "        return mahalanobis_distance(p1,p2,X)\n",
    "    elif(distance_type == \"correlation\"):\n",
    "        return correlation_distance(p1,p2)\n",
    "    elif(distance_type == \"cosine\"):\n",
    "        return cosine_distance(p1,p2)\n",
    "    elif(distance_type == \"bray_curtis\"):\n",
    "        return bray_curtis_distance(p1,p2)\n",
    "    elif(distance_type == \"canberra\"):\n",
    "        return canberra_distance(p1,p2)\n",
    "    else:\n",
    "        return \"None\""
   ]
  },
  {
   "cell_type": "code",
   "execution_count": 40,
   "id": "94a53b68",
   "metadata": {},
   "outputs": [],
   "source": [
    "def distance_classifer(X_test,actual,model,dtype,X_train=None):\n",
    "    # X_test->test points, actual->actual labels for test points\n",
    "    # model->centroids, dtype->type of distance metric\n",
    "    # X_train->if necessary,to calculate the covariance matrix\n",
    "    predicted = [0]*len(X_test)\n",
    "    min_dist = MAX\n",
    "    for i in range (len(X_test)):\n",
    "        for j in range(0,len(model)):\n",
    "            distance = select_distance([model[j,2],model[j,3]],[X_test[i,2],X_test[i,3]],dtype,X_train)          \n",
    "            # invalid distance\n",
    "            if(dtype == None):\n",
    "                return None\n",
    "            # finding the minimum distance  \n",
    "            if(distance < min_dist):\n",
    "                min_dist = distance\n",
    "                lbl = j;\n",
    "        # store predicted label\n",
    "        predicted[i] = lbl;\n",
    "        #reset min_dist\n",
    "        min_dist = MAX\n",
    "    #Calculate MER of model using that particular distance metrics \n",
    "    mer = MER_Error(actual,predicted)    \n",
    "    return mer"
   ]
  },
  {
   "cell_type": "code",
   "execution_count": 41,
   "id": "f0ee1da8",
   "metadata": {},
   "outputs": [],
   "source": [
    "# X_test->test points, Y->Actual labels for test points\n",
    "# model->centroids\n",
    "euclidean = distance_classifer(X_test,Y_test,model,\"euclidean\")\n",
    "manhattan = distance_classifer(X_test,Y_test,model,\"manhattan\")\n",
    "chessboard = distance_classifer(X_test,Y_test,model,\"chessboard\")\n",
    "cosine = distance_classifer(X_test,Y_test,model,\"cosine\")\n",
    "mahalanobis = distance_classifer(X_test,Y_test,model,\"mahalanobis\",X_train[:,2:])\n",
    "correlation = distance_classifer(X_test,Y_test,model,\"correlation\")\n",
    "bray_curtis = distance_classifer(X_test,Y_test,model,\"bray_curtis\")\n",
    "canberra = distance_classifer(X_test,Y_test,model,\"canberra\")\n",
    "minkowski = distance_classifer(X_test,Y_test,model,\"minkowski\")\n",
    "\n",
    "# list of MER and accuracy, for each model\n",
    "euclidean = [euclidean,(1-euclidean)*100]\n",
    "manhattan = [manhattan,(1-manhattan)*100]\n",
    "chessboard = [chessboard,(1-chessboard)*100]\n",
    "cosine = [cosine,(1-cosine)*100]\n",
    "mahalanobis = [mahalanobis,(1-mahalanobis)*100]\n",
    "correlation = [correlation,(1-correlation)*100]\n",
    "bray_curtis = [bray_curtis,(1-bray_curtis)*100]\n",
    "canberra = [canberra,(1-canberra)*100]\n",
    "minkowski = [minkowski,(1-minkowski)*100]"
   ]
  },
  {
   "cell_type": "code",
   "execution_count": 42,
   "id": "897c2519",
   "metadata": {},
   "outputs": [
    {
     "name": "stdout",
     "output_type": "stream",
     "text": [
      "                  MER   Accuracy\n",
      "Euclidean    0.033333  96.666667\n",
      "Manhattan    0.050000  95.000000\n",
      "Chessboard   0.033333  96.666667\n",
      "Minkowski    0.033333  96.666667\n",
      "Cosine       0.150000  85.000000\n",
      "Mahalanobis  0.116667  88.333333\n",
      "Correlation  0.666667  33.333333\n",
      "Bray Curtis  0.016667  98.333333\n",
      "Canberra     0.050000  95.000000\n"
     ]
    }
   ],
   "source": [
    "errors = [ euclidean, manhattan, chessboard, minkowski, cosine, mahalanobis, correlation, bray_curtis, canberra]\n",
    "dff = pd.DataFrame(errors, columns = ['MER','Accuracy'],\n",
    "index = ['Euclidean','Manhattan','Chessboard','Minkowski','Cosine','Mahalanobis','Correlation','Bray Curtis','Canberra'])\n",
    "print(dff)"
   ]
  },
  {
   "cell_type": "code",
   "execution_count": 43,
   "id": "bce1260c",
   "metadata": {
    "scrolled": true
   },
   "outputs": [
    {
     "data": {
      "image/png": "[encoded data removed]",
      "text/plain": [
       "<Figure size 640x400 with 1 Axes>"
      ]
     },
     "metadata": {
      "needs_background": "light"
     },
     "output_type": "display_data"
    }
   ],
   "source": [
    "fig = plt.figure(figsize=(8,5), dpi=80)\n",
    "ax = fig.add_axes([0,0,1,1])\n",
    "error_type = ['Euclidean', 'Manhattan', 'Chessboard', 'Minkowski', 'Cosine','Mahalanobis','Correlation','Bray Curtis','Canberra']\n",
    "dt = [euclidean[0],manhattan[0],chessboard[0],minkowski[0],cosine[0],mahalanobis[0],correlation[0],bray_curtis[0],canberra[0]]\n",
    "ax.bar(error_type,dt)\n",
    "plt.title(\"Misclassification Error Rate Vs. Classifier\")\n",
    "plt.xlabel('Classifier Type')  \n",
    "plt.ylabel('MER')  \n",
    "plt.show()"
   ]
  },
  {
   "cell_type": "code",
   "execution_count": 44,
   "id": "6dba1e5a",
   "metadata": {},
   "outputs": [
    {
     "data": {
      "image/png": "[encoded data removed]",
      "text/plain": [
       "<Figure size 640x400 with 1 Axes>"
      ]
     },
     "metadata": {
      "needs_background": "light"
     },
     "output_type": "display_data"
    }
   ],
   "source": [
    "fig = plt.figure(figsize=(8,5), dpi=80)\n",
    "ax = fig.add_axes([0,0,1,1])\n",
    "error_type = ['Euclidean', 'Manhattan', 'Chessboard', 'Minkowski', 'Cosine','Mahalanobis','Correlation','Bray Curtis','Canberra']\n",
    "dt = [euclidean[1],manhattan[1],chessboard[1],minkowski[1],cosine[1],mahalanobis[1],correlation[1],bray_curtis[1],canberra[1]]\n",
    "ax.bar(error_type,dt)\n",
    "plt.title(\"Accuracy Vs. Classifier\")\n",
    "plt.xlabel('Classifier Type')  \n",
    "plt.ylabel('Accuracy (%)')  \n",
    "plt.show()"
   ]
  }
 ],
 "metadata": {
  "kernelspec": {
   "display_name": "Python 3 (ipykernel)",
   "language": "python",
   "name": "python3"
  },
  "language_info": {
   "codemirror_mode": {
    "name": "ipython",
    "version": 3
   },
   "file_extension": ".py",
   "mimetype": "text/x-python",
   "name": "python",
   "nbconvert_exporter": "python",
   "pygments_lexer": "ipython3",
   "version": "3.8.2"
  }
 },
 "nbformat": 4,
 "nbformat_minor": 5
}
