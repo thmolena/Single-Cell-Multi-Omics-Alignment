{
 "cells": [
  {
   "cell_type": "code",
   "execution_count": 1,
   "id": "ed5fcbf6-9fb3-4ab8-9f16-1119fb59be59",
   "metadata": {
    "tags": []
   },
   "outputs": [],
   "source": [
    "import sys\n",
    "sys.path.insert(1, '../src/')\n",
    "from scot import *\n",
    "import model3 as model3"
   ]
  },
  {
   "cell_type": "code",
   "execution_count": 2,
   "id": "e097de59-a544-4340-b154-f210bfca1f9d",
   "metadata": {
    "tags": []
   },
   "outputs": [
    {
     "name": "stdout",
     "output_type": "stream",
     "text": [
      "Dimensions of input datasets are:  X=  (1047, 19)  y=  (1047, 10)\n"
     ]
    }
   ],
   "source": [
    "X=np.load(\"../data/scatac_feat.npy\") \n",
    "y=np.load(\"../data/scrna_feat.npy\")\n",
    "print(\"Dimensions of input datasets are: \", \"X= \", X.shape, \" y= \", y.shape)"
   ]
  },
  {
   "cell_type": "code",
   "execution_count": 3,
   "id": "ab53e414-0223-4ff1-84d8-99a902fa6a34",
   "metadata": {
    "tags": []
   },
   "outputs": [
    {
     "name": "stdout",
     "output_type": "stream",
     "text": [
      "(5, 3)\n",
      "[[60197.  6248.  4661.]\n",
      " [66853.  5991. 77816.]\n",
      " [13579.  1527.  1360.]\n",
      " [71872.  5936.  2560.]\n",
      " [30420.  3778.  2096.]]\n"
     ]
    }
   ],
   "source": [
    "X_example = X[0:5,0:3]\n",
    "print(X_example.shape)\n",
    "print(X_example)"
   ]
  },
  {
   "cell_type": "code",
   "execution_count": 4,
   "id": "e6a27c54-1023-4c77-9e76-0be639fd5239",
   "metadata": {
    "tags": []
   },
   "outputs": [
    {
     "name": "stdout",
     "output_type": "stream",
     "text": [
      "(5, 5)\n",
      "[[  6.6883364   -2.3696006    2.14278082  -0.28129481   0.0990671 ]\n",
      " [ -1.64704263   3.87629104  -2.57201982  -0.26799879  -0.10307687]\n",
      " [ -3.22729615   4.55422489 -10.10911411  -0.35633895   0.13389332]\n",
      " [  8.39902905  -5.00142347  -0.21591065   0.20100497   0.11180953]\n",
      " [ 10.40509703  -5.58712509   0.23241886  -0.31585508  -0.36511944]]\n"
     ]
    }
   ],
   "source": [
    "y_example = y[0:5,0:5]\n",
    "print(y_example.shape)\n",
    "print(y_example)\n"
   ]
  },
  {
   "cell_type": "code",
   "execution_count": 5,
   "id": "d24b88ca-7b56-46c7-bbfc-91b724a5c61f",
   "metadata": {
    "tags": []
   },
   "outputs": [
    {
     "name": "stdout",
     "output_type": "stream",
     "text": [
      "model start\n",
      "iter 0\n",
      "It.  |Err         \n",
      "-------------------\n",
      "    0|2.555578e-02|\n",
      "   10|1.612740e-04|\n",
      "   20|4.298243e-07|\n",
      "It.  |Err         \n",
      "-------------------\n",
      "    0|2.731694e-02|\n",
      "   10|1.219144e-07|\n",
      "It.  |Err         \n",
      "-------------------\n",
      "    0|2.578230e-02|\n",
      "   10|4.099350e-08|\n",
      "iter 1\n",
      "It.  |Err         \n",
      "-------------------\n",
      "    0|2.394864e-02|\n",
      "   10|1.297897e-04|\n",
      "   20|4.307626e-07|\n",
      "It.  |Err         \n",
      "-------------------\n",
      "    0|2.330470e-02|\n",
      "   10|3.161013e-08|\n",
      "It.  |Err         \n",
      "-------------------\n",
      "    0|2.624619e-02|\n",
      "   10|4.984874e-08|\n",
      "iter 2\n",
      "It.  |Err         \n",
      "-------------------\n",
      "    0|2.174666e-02|\n",
      "   10|5.940483e-05|\n",
      "It.  |Err         \n",
      "-------------------\n",
      "    0|1.891646e-02|\n",
      "   10|2.006130e-08|\n",
      "It.  |Err         \n",
      "-------------------\n",
      "    0|2.627654e-02|\n",
      "   10|8.538149e-08|\n",
      "iter 3\n",
      "It.  |Err         \n",
      "-------------------\n",
      "    0|1.888803e-02|\n",
      "   10|1.144159e-05|\n",
      "It.  |Err         \n",
      "-------------------\n",
      "    0|1.442430e-02|\n",
      "   10|1.623816e-08|\n",
      "It.  |Err         \n",
      "-------------------\n",
      "    0|2.561491e-02|\n",
      "   10|3.387640e-07|\n",
      "iter 4\n",
      "It.  |Err         \n",
      "-------------------\n",
      "    0|1.555782e-02|\n",
      "   10|1.006773e-06|\n",
      "It.  |Err         \n",
      "-------------------\n",
      "    0|1.018377e-02|\n",
      "   10|1.825012e-08|\n",
      "It.  |Err         \n",
      "-------------------\n",
      "    0|2.427803e-02|\n",
      "   10|1.596346e-06|\n",
      "model takes 16.446998 seconds\n"
     ]
    },
    {
     "data": {
      "image/png": "[encoded data removed]",
      "text/plain": [
       "<Figure size 640x480 with 1 Axes>"
      ]
     },
     "metadata": {},
     "output_type": "display_data"
    }
   ],
   "source": [
    "C1, C2, C1_opt, C2_opt = model3.model(X_example, y_example,epsilon =1, tol= 1e-4, lr = 1, n_neighbors = 3)"
   ]
  },
  {
   "cell_type": "code",
   "execution_count": 6,
   "id": "15696294-3ca2-4397-accd-644b9c83bbc3",
   "metadata": {
    "tags": []
   },
   "outputs": [
    {
     "data": {
      "text/plain": [
       "array([[0.        , 0.76248841, 0.02390867, 0.04639248, 0.02184711],\n",
       "       [0.76248841, 0.        , 0.74193054, 0.80051402, 0.77083552],\n",
       "       [0.02390867, 0.74193054, 0.        , 0.0702034 , 0.03301074],\n",
       "       [0.04639248, 0.80051402, 0.0702034 , 0.        , 0.05257014],\n",
       "       [0.02184711, 0.77083552, 0.03301074, 0.05257014, 0.        ]])"
      ]
     },
     "execution_count": 6,
     "metadata": {},
     "output_type": "execute_result"
    }
   ],
   "source": [
    "C1"
   ]
  },
  {
   "cell_type": "code",
   "execution_count": 7,
   "id": "862de27d-d413-4c98-b848-673c99e81648",
   "metadata": {
    "tags": []
   },
   "outputs": [
    {
     "data": {
      "text/plain": [
       "array([[0.        , 1.84358657, 1.80508104, 0.37252863, 0.31379649],\n",
       "       [1.84358657, 0.        , 0.53137166, 1.83138424, 1.82863962],\n",
       "       [1.80508104, 0.53137166, 0.        , 1.68678457, 1.70226317],\n",
       "       [0.37252863, 1.83138424, 1.68678457, 0.        , 0.08790316],\n",
       "       [0.31379649, 1.82863962, 1.70226317, 0.08790316, 0.        ]])"
      ]
     },
     "execution_count": 7,
     "metadata": {},
     "output_type": "execute_result"
    }
   ],
   "source": [
    "C2"
   ]
  },
  {
   "cell_type": "code",
   "execution_count": 8,
   "id": "aecd99e2-3100-49c4-bf0a-b76dd5be6645",
   "metadata": {
    "tags": []
   },
   "outputs": [
    {
     "data": {
      "text/plain": [
       "array([[ 0.      , 33.19848 , 34.00001 , 25.020084, 41.4527  ],\n",
       "       [33.19848 ,  0.      , 27.180374, 42.17249 , 28.581287],\n",
       "       [34.00001 , 27.180374,  0.      , 23.718441, 35.531376],\n",
       "       [25.020084, 42.17249 , 23.718441,  0.      , 43.537193],\n",
       "       [41.4527  , 28.581287, 35.531376, 43.537193,  0.      ]],\n",
       "      dtype=float32)"
      ]
     },
     "execution_count": 8,
     "metadata": {},
     "output_type": "execute_result"
    }
   ],
   "source": [
    "C1_opt"
   ]
  },
  {
   "cell_type": "code",
   "execution_count": 9,
   "id": "02f03a1a-855e-4700-8a4b-28d8a468c75d",
   "metadata": {
    "tags": []
   },
   "outputs": [
    {
     "data": {
      "text/plain": [
       "array([[ 0.      , 42.028835, 45.63813 , 49.504375, 42.69715 ],\n",
       "       [42.028835,  0.      , 30.25629 , 26.473019, 23.26946 ],\n",
       "       [45.63813 , 30.25629 ,  0.      , 26.963055, 17.480421],\n",
       "       [49.504375, 26.473019, 26.963055,  0.      , 19.067833],\n",
       "       [42.69715 , 23.26946 , 17.480421, 19.067833,  0.      ]],\n",
       "      dtype=float32)"
      ]
     },
     "execution_count": 9,
     "metadata": {},
     "output_type": "execute_result"
    }
   ],
   "source": [
    "C2_opt"
   ]
  },
  {
   "cell_type": "code",
   "execution_count": 10,
   "id": "bc19453a-f433-4f74-9087-7eb122c1fad9",
   "metadata": {
    "tags": []
   },
   "outputs": [],
   "source": [
    "C1_norm = C1_opt/np.sum(C1_opt)"
   ]
  },
  {
   "cell_type": "code",
   "execution_count": 11,
   "id": "3555dced-2f43-4a79-abd8-1fbe7dbd76fb",
   "metadata": {
    "tags": []
   },
   "outputs": [],
   "source": [
    "C2_norm = C2_opt/np.sum(C2_opt)"
   ]
  },
  {
   "cell_type": "code",
   "execution_count": 12,
   "id": "f6ecd866-9cfe-4d5a-b89d-c054f61cc1d4",
   "metadata": {
    "tags": []
   },
   "outputs": [],
   "source": [
    "def is_distance_matrix(matrix):\n",
    "    \"\"\"\n",
    "    Checks whether a given matrix is a distance matrix or not.\n",
    "    \"\"\"\n",
    "    n = len(matrix)\n",
    "    \n",
    "    # Check condition 1\n",
    "    for i in range(n):\n",
    "        if matrix[i][i] != 0:\n",
    "            return False\n",
    "    \n",
    "    # Check condition 2\n",
    "    for i in range(n):\n",
    "        for j in range(n):\n",
    "            if matrix[i][j] != matrix[j][i]:\n",
    "                return False\n",
    "    \n",
    "    # Check condition 3\n",
    "    for i in range(n):\n",
    "        for j in range(n):\n",
    "            for k in range(n):\n",
    "                if matrix[i][j] > matrix[i][k] + matrix[k][j]:\n",
    "                    return False\n",
    "    \n",
    "    return True"
   ]
  },
  {
   "cell_type": "code",
   "execution_count": 13,
   "id": "20f466ea-ff16-4e7b-b095-2cad977a3b94",
   "metadata": {
    "tags": []
   },
   "outputs": [
    {
     "data": {
      "text/plain": [
       "True"
      ]
     },
     "execution_count": 13,
     "metadata": {},
     "output_type": "execute_result"
    }
   ],
   "source": [
    "is_distance_matrix(C1)"
   ]
  },
  {
   "cell_type": "code",
   "execution_count": 14,
   "id": "c41f132c-d00e-420a-ab1b-5276827494e5",
   "metadata": {
    "tags": []
   },
   "outputs": [
    {
     "data": {
      "text/plain": [
       "True"
      ]
     },
     "execution_count": 14,
     "metadata": {},
     "output_type": "execute_result"
    }
   ],
   "source": [
    "is_distance_matrix(C2)"
   ]
  },
  {
   "cell_type": "code",
   "execution_count": 15,
   "id": "bf7c4ded-0126-4a2f-afbb-dde44c69680d",
   "metadata": {
    "tags": []
   },
   "outputs": [
    {
     "data": {
      "text/plain": [
       "True"
      ]
     },
     "execution_count": 15,
     "metadata": {},
     "output_type": "execute_result"
    }
   ],
   "source": [
    "is_distance_matrix(C1_opt)"
   ]
  },
  {
   "cell_type": "code",
   "execution_count": 16,
   "id": "5ed8eace-c070-4bad-9ffe-fa233cd150b4",
   "metadata": {
    "tags": []
   },
   "outputs": [
    {
     "data": {
      "text/plain": [
       "True"
      ]
     },
     "execution_count": 16,
     "metadata": {},
     "output_type": "execute_result"
    }
   ],
   "source": [
    "is_distance_matrix(C2_opt)"
   ]
  },
  {
   "cell_type": "code",
   "execution_count": 17,
   "id": "b2b09318-e8bb-4437-b87c-4ee6446304be",
   "metadata": {
    "tags": []
   },
   "outputs": [
    {
     "data": {
      "text/plain": [
       "True"
      ]
     },
     "execution_count": 17,
     "metadata": {},
     "output_type": "execute_result"
    }
   ],
   "source": [
    "is_distance_matrix(C1_norm)"
   ]
  },
  {
   "cell_type": "code",
   "execution_count": 18,
   "id": "688913c4-41f8-4cdc-810a-3f502b4e50a3",
   "metadata": {
    "tags": []
   },
   "outputs": [
    {
     "data": {
      "text/plain": [
       "True"
      ]
     },
     "execution_count": 18,
     "metadata": {},
     "output_type": "execute_result"
    }
   ],
   "source": [
    "is_distance_matrix(C2_norm)"
   ]
  },
  {
   "cell_type": "code",
   "execution_count": 19,
   "id": "9f58b3af-f218-4e5a-b502-2c6f16804bea",
   "metadata": {
    "tags": []
   },
   "outputs": [
    {
     "name": "stdout",
     "output_type": "stream",
     "text": [
      "distance between C1 and C2: 0.9749538719413066\n"
     ]
    }
   ],
   "source": [
    "p = ot.unif(C1.shape[0])\n",
    "q = ot.unif(C2.shape[0])\n",
    "distance_C1_C2 = ot.gromov.entropic_gromov_wasserstein2(C1, C2, p, q, loss_fun = 'square_loss', epsilon=1e-2)\n",
    "print('distance between C1 and C2:', distance_C1_C2)"
   ]
  },
  {
   "cell_type": "code",
   "execution_count": 20,
   "id": "39aa408a-de7f-421a-a438-8c6de1b32a74",
   "metadata": {
    "tags": []
   },
   "outputs": [
    {
     "name": "stdout",
     "output_type": "stream",
     "text": [
      "distance between C1_opt and C2_opt: 0.001117363124128354\n"
     ]
    }
   ],
   "source": [
    "p = ot.unif(C1_opt.shape[0])\n",
    "q = ot.unif(C2_opt.shape[0])\n",
    "distance_C1_opt_C2_opt = ot.gromov.entropic_gromov_wasserstein2(C1_norm, C2_norm, p, q, loss_fun = 'square_loss', epsilon=1e-2)\n",
    "print('distance between C1_opt and C2_opt:', distance_C1_opt_C2_opt)"
   ]
  },
  {
   "cell_type": "code",
   "execution_count": 21,
   "id": "1bfb9ab6-0599-4953-b4e6-7f70693f8bb4",
   "metadata": {
    "tags": []
   },
   "outputs": [],
   "source": [
    "C1_opt = C1_norm\n",
    "C2_opt = C2_norm"
   ]
  },
  {
   "cell_type": "code",
   "execution_count": 22,
   "id": "fb8ec7d7-a12e-4b46-9e93-492c9c3312f7",
   "metadata": {
    "tags": []
   },
   "outputs": [
    {
     "name": "stdout",
     "output_type": "stream",
     "text": [
      "It.  |Err         \n",
      "-------------------\n",
      "    0|1.787824e-03|\n",
      "   10|4.523925e-13|\n"
     ]
    }
   ],
   "source": [
    "p = ot.unif(C1_opt.shape[0])\n",
    "q =  ot.unif(C2_opt.shape[0])\n",
    "P = ot.gromov.entropic_gromov_wasserstein(C1_opt, C2_opt, p, q, loss_fun='square_loss', epsilon = 1e-2, log=False, verbose=True)"
   ]
  },
  {
   "cell_type": "code",
   "execution_count": 23,
   "id": "d132b6f7-8525-4b05-9782-30189af7b530",
   "metadata": {
    "tags": []
   },
   "outputs": [],
   "source": [
    "# projection\n",
    "#Projecting the first domain onto the second domain\n",
    "y_new=normalize(y_example)\n",
    "weights=np.sum(P,axis = 0)\n",
    "X_new =np.matmul(P, normalize(y_example)) / weights[:, None]"
   ]
  },
  {
   "cell_type": "code",
   "execution_count": 24,
   "id": "5f4c70c5-70ee-4c89-9266-f477f76c7269",
   "metadata": {
    "tags": []
   },
   "outputs": [
    {
     "name": "stdout",
     "output_type": "stream",
     "text": [
      "Average FOSCTTM score for this alignment with X onto Y is:  0.35\n"
     ]
    }
   ],
   "source": [
    "import evals \n",
    "\n",
    "# We will use the average FOSCTTM measure implemented in evals.py for evaluation (metric used in the publication Demetci et al 2021)\n",
    "# This measure reports the fraction of samples closer to a sample than its true match (FOSCTTM), averaged over all samples. \n",
    "fracs=evals.calc_domainAveraged_FOSCTTM(X_new, y_new)\n",
    "print(\"Average FOSCTTM score for this alignment with X onto Y is: \", np.mean(fracs))"
   ]
  },
  {
   "cell_type": "code",
   "execution_count": 25,
   "id": "f0d25c3c-c8d5-413c-a68c-0d3bb03f6a0a",
   "metadata": {
    "tags": []
   },
   "outputs": [
    {
     "data": {
      "image/png": "[encoded data removed]",
      "text/plain": [
       "<Figure size 640x480 with 1 Axes>"
      ]
     },
     "metadata": {},
     "output_type": "display_data"
    }
   ],
   "source": [
    "#Plotting sorted FOSCTTM to show the distributions of FOSCTTM across cells:\n",
    "\n",
    "import matplotlib.pyplot as plt\n",
    "legend_label=\"SCOT alignment FOSCTTM \\n average value: \"+str(np.mean(fracs)) #Put average FOSCTTM in the legend\n",
    "plt.plot(np.arange(len(fracs)), np.sort(fracs), \"r--\", label=legend_label)\n",
    "plt.legend()\n",
    "plt.xlabel(\"Cells\")\n",
    "plt.ylabel(\"Sorted FOSCTTM\")\n",
    "plt.show()"
   ]
  },
  {
   "cell_type": "code",
   "execution_count": 26,
   "id": "6b73b441-f0fa-4581-aee3-367ab8752a7e",
   "metadata": {
    "tags": []
   },
   "outputs": [
    {
     "data": {
      "image/png": "[encoded data removed]",
      "text/plain": [
       "<Figure size 640x480 with 1 Axes>"
      ]
     },
     "metadata": {},
     "output_type": "display_data"
    }
   ],
   "source": [
    "import matplotlib.pyplot as plt\n",
    "from sklearn.decomposition import PCA\n",
    "\n",
    "#Reduce the dimensionality of the aligned domains to two (2D) via PCA for the sake of visualization:\n",
    "pca=PCA(n_components=2)\n",
    "Xy_pca=pca.fit_transform(np.concatenate((X_new, y_new), axis=0))\n",
    "X_pca = Xy_pca[0:5,]\n",
    "y_pca = Xy_pca[5:,]\n",
    "\n",
    "#Plot aligned domains, samples colored by domain identity:\n",
    "# plt.scatter(X_pca[:,0], X_pca[:,1], c=\"k\", s=15, label=\"Chromatin Accessibility\")\n",
    "# plt.scatter(y_pca[:,0], y_pca[:,1], c=\"r\", s=15, label=\"Gene Expression\")\n",
    "plt.scatter(X_pca[:,0], X_pca[:,1], c=\"k\", s=15, label=\"X\")\n",
    "plt.scatter(y_pca[:,0], y_pca[:,1], c=\"r\", s=15, label=\"y\")\n",
    "plt.legend()\n",
    "plt.title(\"Colored based on domains\")\n",
    "plt.show()"
   ]
  },
  {
   "cell_type": "code",
   "execution_count": 27,
   "id": "1d32cd08-9996-4310-88b5-bf4b5210dfe2",
   "metadata": {
    "tags": []
   },
   "outputs": [
    {
     "data": {
      "image/png": "[encoded data removed]",
      "text/plain": [
       "<Figure size 640x480 with 2 Axes>"
      ]
     },
     "metadata": {},
     "output_type": "display_data"
    }
   ],
   "source": [
    "originalX_pca=pca.fit_transform(normalize(X_example))\n",
    "originaly_pca=pca.fit_transform(normalize(y_example))\n",
    "\n",
    "#Visualization of the global geometry\n",
    "fig, (ax1, ax2)= plt.subplots(1,2)\n",
    "ax1.scatter(originalX_pca[:,0], originalX_pca[:,1], c=\"k\", s=15)\n",
    "ax1.set_title(\"X\")\n",
    "# ax1.set_title(\"Chromatin Accessibiliy Domain \\n *before* Alignment\")\n",
    "ax2.scatter(originaly_pca[:,0], originaly_pca[:,1], c=\"r\", s=15)\n",
    "# ax2.set_title(\"Gene Expression Domain \\n *before* Alignment\")\n",
    "ax2.set_title(\"y\")\n",
    "plt.show()"
   ]
  },
  {
   "cell_type": "code",
   "execution_count": 28,
   "id": "561d2707-9135-4767-806f-8ee7fec2812b",
   "metadata": {
    "tags": []
   },
   "outputs": [
    {
     "name": "stdout",
     "output_type": "stream",
     "text": [
      "It.  |Err         \n",
      "-------------------\n",
      "    0|1.040834e-16|\n"
     ]
    }
   ],
   "source": [
    "# initialize SCOT object\n",
    "original_scot=SCOT(X_example, y_example)\n",
    "# call the alignment with l2 normalization \n",
    "X_new, y_new = original_scot.align(k=5, e=1e-3,  normalize=True, norm=\"l2\")"
   ]
  },
  {
   "cell_type": "code",
   "execution_count": 29,
   "id": "b08659ad-55d5-4ffc-8659-7373a7f8ce2e",
   "metadata": {
    "tags": []
   },
   "outputs": [
    {
     "name": "stdout",
     "output_type": "stream",
     "text": [
      "Average FOSCTTM score for this alignment with X onto Y is:  0.25\n"
     ]
    }
   ],
   "source": [
    "import evals \n",
    "\n",
    "# We will use the average FOSCTTM measure implemented in evals.py for evaluation (metric used in the publication Demetci et al 2021)\n",
    "# This measure reports the fraction of samples closer to a sample than its true match (FOSCTTM), averaged over all samples. \n",
    "fracs=evals.calc_domainAveraged_FOSCTTM(X_new, y_new)\n",
    "print(\"Average FOSCTTM score for this alignment with X onto Y is: \", np.mean(fracs))"
   ]
  },
  {
   "cell_type": "code",
   "execution_count": 30,
   "id": "06faaf34-46b1-419e-94a7-bce9c68d3e03",
   "metadata": {
    "tags": []
   },
   "outputs": [
    {
     "data": {
      "image/png": "[encoded data removed]",
      "text/plain": [
       "<Figure size 640x480 with 1 Axes>"
      ]
     },
     "metadata": {},
     "output_type": "display_data"
    }
   ],
   "source": [
    "#Plotting sorted FOSCTTM to show the distributions of FOSCTTM across cells:\n",
    "\n",
    "import matplotlib.pyplot as plt\n",
    "legend_label=\"SCOT alignment FOSCTTM \\n average value: \"+str(np.mean(fracs)) #Put average FOSCTTM in the legend\n",
    "plt.plot(np.arange(len(fracs)), np.sort(fracs), \"r--\", label=legend_label)\n",
    "plt.legend()\n",
    "plt.xlabel(\"Cells\")\n",
    "plt.ylabel(\"Sorted FOSCTTM\")\n",
    "plt.show()"
   ]
  },
  {
   "cell_type": "code",
   "execution_count": 31,
   "id": "22d5c1c3-462e-48e2-ad82-1b426b912429",
   "metadata": {
    "tags": []
   },
   "outputs": [
    {
     "data": {
      "image/png": "[encoded data removed]",
      "text/plain": [
       "<Figure size 640x480 with 1 Axes>"
      ]
     },
     "metadata": {},
     "output_type": "display_data"
    }
   ],
   "source": [
    "import matplotlib.pyplot as plt\n",
    "from sklearn.decomposition import PCA\n",
    "\n",
    "#Reduce the dimensionality of the aligned domains to two (2D) via PCA for the sake of visualization:\n",
    "pca=PCA(n_components=2)\n",
    "Xy_pca=pca.fit_transform(np.concatenate((X_new, y_new), axis=0))\n",
    "X_pca = Xy_pca[0:5,]\n",
    "y_pca = Xy_pca[5:,]\n",
    "\n",
    "#Plot aligned domains, samples colored by domain identity:\n",
    "# plt.scatter(X_pca[:,0], X_pca[:,1], c=\"k\", s=15, label=\"Chromatin Accessibility\")\n",
    "# plt.scatter(y_pca[:,0], y_pca[:,1], c=\"r\", s=15, label=\"Gene Expression\")\n",
    "plt.scatter(X_pca[:,0], X_pca[:,1], c=\"k\", s=15, label=\"X\")\n",
    "plt.scatter(y_pca[:,0], y_pca[:,1], c=\"r\", s=15, label=\"y\")\n",
    "plt.legend()\n",
    "plt.title(\"Colored based on domains\")\n",
    "plt.show()"
   ]
  },
  {
   "cell_type": "code",
   "execution_count": 32,
   "id": "f21e63ce-6d62-4c44-9788-3d6f81f0db45",
   "metadata": {
    "tags": []
   },
   "outputs": [
    {
     "data": {
      "image/png": "[encoded data removed]",
      "text/plain": [
       "<Figure size 640x480 with 2 Axes>"
      ]
     },
     "metadata": {},
     "output_type": "display_data"
    }
   ],
   "source": [
    "originalX_pca=pca.fit_transform(original_scot.X)\n",
    "originaly_pca=pca.fit_transform(original_scot.y)\n",
    "\n",
    "#Visualization of the global geometry\n",
    "fig, (ax1, ax2)= plt.subplots(1,2)\n",
    "ax1.scatter(originalX_pca[:,0], originalX_pca[:,1], c=\"k\", s=15)\n",
    "# ax1.set_title(\"Chromatin Accessibiliy Domain \\n *before* Alignment\")\n",
    "ax1.set_title(\"X\")\n",
    "ax2.scatter(originaly_pca[:,0], originaly_pca[:,1], c=\"r\", s=15)\n",
    "# ax2.set_title(\"Gene Expression Domain \\n *before* Alignment\")\n",
    "ax2.set_title(\"y\")\n",
    "plt.show()"
   ]
  },
  {
   "cell_type": "code",
   "execution_count": null,
   "id": "21236ad2-646f-4ba2-904b-0ca565d4b824",
   "metadata": {},
   "outputs": [],
   "source": []
  },
  {
   "cell_type": "code",
   "execution_count": null,
   "id": "009e76f3-570e-4aa0-974f-f02dfd13a52e",
   "metadata": {},
   "outputs": [],
   "source": []
  }
 ],
 "metadata": {
  "kernelspec": {
   "display_name": "Python 3 (ipykernel)",
   "language": "python",
   "name": "python3"
  },
  "language_info": {
   "codemirror_mode": {
    "name": "ipython",
    "version": 3
   },
   "file_extension": ".py",
   "mimetype": "text/x-python",
   "name": "python",
   "nbconvert_exporter": "python",
   "pygments_lexer": "ipython3",
   "version": "3.8.17"
  }
 },
 "nbformat": 4,
 "nbformat_minor": 5
}
